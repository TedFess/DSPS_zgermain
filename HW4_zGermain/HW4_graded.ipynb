{
 "cells": [
  {
   "cell_type": "markdown",
   "metadata": {
    "colab_type": "text",
    "id": "view-in-github"
   },
   "source": [
    "<a href=\"https://colab.research.google.com/github/ZachGermain/DSPS_zgermain/blob/master/HW4_zGermain/MWrotCurve.ipynb\" target=\"_parent\"><img src=\"https://colab.research.google.com/assets/colab-badge.svg\" alt=\"Open In Colab\"/></a>"
   ]
  },
  {
   "cell_type": "markdown",
   "metadata": {
    "colab_type": "text",
    "id": "rxa6Xa3jOdCI",
    "run_control": {
     "frozen": false,
     "read_only": false
    }
   },
   "source": [
    "prepared by federica b bianco @fedhere\n",
    "for UDel DSPS PHYS 467/667\n",
    "\n",
    "# testing the significance of Dark Matter"
   ]
  },
  {
   "cell_type": "code",
   "execution_count": 1,
   "metadata": {
    "ExecuteTime": {
     "end_time": "2019-09-16T17:54:57.244596Z",
     "start_time": "2019-09-16T17:54:57.231090Z"
    },
    "colab": {
     "base_uri": "https://localhost:8080/",
     "height": 34
    },
    "colab_type": "code",
    "id": "Ya2RaOGbOdCJ",
    "outputId": "a6d6d1d0-8f4e-48ee-dcb5-8f0feae32c8c",
    "run_control": {
     "frozen": false,
     "read_only": false
    }
   },
   "outputs": [
    {
     "name": "stdout",
     "output_type": "stream",
     "text": [
      "Populating the interactive namespace from numpy and matplotlib\n"
     ]
    }
   ],
   "source": [
    "import pandas as pd\n",
    "import numpy as np\n",
    "import pylab as pl\n",
    "%pylab inline\n",
    "\n",
    "\n",
    "#package I will use for constants and units conversion \n",
    "import astropy\n",
    "\n"
   ]
  },
  {
   "cell_type": "markdown",
   "metadata": {
    "colab_type": "text",
    "id": "4qp8A2TG1Gwb",
    "run_control": {
     "frozen": false,
     "read_only": false
    }
   },
   "source": [
    "In 1970 Vera Rubin published a seminal paper: she measured the rotational speed of HII regions in several galaxies and how it changed as a function of distance to the center of the galaxy. If we believe Newtonian gravity (or GR) we expect that _once all of the mass is included_, i.e. at a radius distance from the center of the galaxy larger than the radius of the galaxy itself, the rotational speed will be proportional to $v\\propto\\frac{1}{r}$"
   ]
  },
  {
   "cell_type": "markdown",
   "metadata": {
    "colab_type": "text",
    "id": "j-BDrNseOdCR",
    "run_control": {
     "frozen": false,
     "read_only": false
    }
   },
   "source": [
    "## Propagation of  uncertainties rules\n",
    "\n",
    "below are the basic rules for propagation of uncertainties - use [this as reference](https://github.com/fedhere/DSPS/blob/master/resources/Managing%20Errors%20and%20Uncertainty.pdf)"
   ]
  },
  {
   "cell_type": "markdown",
   "metadata": {
    "colab_type": "text",
    "id": "iCrFipBzOzqp",
    "run_control": {
     "frozen": false,
     "read_only": false
    }
   },
   "source": [
    "\n",
    "\n",
    "\n",
    "$$\n",
    "\\begin{eqnarray}\n",
    "z = x  \\pm y  ~| & ~  &dz = \\sqrt{dx^2 + dy^2} \n",
    "\\\\\n",
    "z = x * y  ~| & ~& dz = |xy|  \\sqrt{\\left(\\frac{dx}{x}\\right)^2 + \n",
    "                                \\left(\\frac{dy}{y}\\right)^2} \\\\\n",
    "z = x / y  ~| & ~& dz = \\left|\\frac{x}{y}\\right| \\sqrt{\\left(\\frac{dx}{x}\\right)^2 + \n",
    "                                                   \\left(\\frac{dy}{y}\\right)^2} \\\\\n",
    "z = x^n ~| & ~& dz = |n| ~ x^{n-1}  dx \\\\\n",
    "z = \\mathrm{c}x ~| & ~& dz = |\\mathrm{c}| ~dx \\\\\n",
    "z = f(x, y) ~| & ~& dz = \\sqrt{\\left(\\frac{\\partial f}{\\partial x}\\right)^2 dx^2 +\\left(\\frac{\\partial f}{\\partial y}\\right)^2 dy^2} \\\\\n",
    "\\end{eqnarray}\n",
    "$$\n"
   ]
  },
  {
   "cell_type": "markdown",
   "metadata": {
    "colab_type": "text",
    "id": "WcF0zlWCOdCX",
    "run_control": {
     "frozen": false,
     "read_only": false
    }
   },
   "source": [
    "# let's assume a Newtonian framework: \n",
    "the velocity of a body in orbit depends only on the gravitational field of the mass that attracts it, and we can assume that mass is concentrated in the center of mass of (the center for simplicity) the system\n",
    "\n",
    "with G the gravitational constant, $r$ the radius, and $m(r)$ the mass contained within that radius we have the orbital velocity $v$:\n"
   ]
  },
  {
   "cell_type": "markdown",
   "metadata": {
    "colab_type": "text",
    "id": "ZON0DKl5Qm2S",
    "run_control": {
     "frozen": false,
     "read_only": false
    }
   },
   "source": [
    "\n",
    "$v^2 = \\frac{G \\cdot m(r)}{r}$\n"
   ]
  },
  {
   "cell_type": "markdown",
   "metadata": {
    "colab_type": "text",
    "id": "lVfy9lJ21xMT",
    "run_control": {
     "frozen": false,
     "read_only": false
    }
   },
   "source": [
    "Derive this $v^2\\propto\\frac{1}{r}$ from Newton's law $F~=~\\frac{GMm}{r^2}$. Write each formula and describe each step. You can use latex (you really just need to know ```\\frac{}``` and ```^```) and this reference\n",
    "https://www.physicsclassroom.com/calcpad/circgrav"
   ]
  },
  {
   "cell_type": "markdown",
   "metadata": {
    "colab_type": "text",
    "id": "HEB7hQojuAQt",
    "run_control": {
     "frozen": false,
     "read_only": false
    }
   },
   "source": [
    "The force of gravity is $F=\\frac{GMm(r)}{r^2}$, where $M$ is the rotating mass and $m(r)$ is the mass within the radius r, between the system center and rotating body. The net force experienced by a rotating body is $F_{net}=\\frac{Mv^2}{r}$ where M is the rotating bodies mass,v is its orbital speed and r the distance from system center to the rotating body. We assume that the only significant force felt by the rotating body is the force of gravity. Thus, we have $\\frac{Mv^2}{r}=\\frac{GMm(r)}{r^2}$. We can then multiply both sides by $\\frac{r}{m}$ arriving at the solution for the square of the orbital speed: $v^2=\\frac{Gm(r)}{r}$."
   ]
  },
  {
   "cell_type": "markdown",
   "metadata": {
    "colab_type": "text",
    "id": "KQAEJtWuOdCb",
    "run_control": {
     "frozen": false,
     "read_only": false
    }
   },
   "source": [
    "## M31 rotational curve"
   ]
  },
  {
   "cell_type": "markdown",
   "metadata": {
    "ExecuteTime": {
     "end_time": "2019-08-02T01:34:15.029084Z",
     "start_time": "2019-08-02T01:34:15.026604Z"
    },
    "colab_type": "text",
    "id": "BTaXzFYeOdCc",
    "run_control": {
     "frozen": false,
     "read_only": false
    }
   },
   "source": [
    "# Galaxy Rotational Curves\n",
    "The data comes from [SOFUE 2015](http://www.ioa.s.u-tokyo.ac.jp/~sofue/htdocs/2015m31/2015-pasj-M31MW-DH.pdf)\n",
    "The data are plotted in Figure 3 and 4 for M31 and the Milky Way respectively, and hosted on [this website](http://www.ioa.s.u-tokyo.ac.jp/~sofue/htdocs/2015m31/)\n",
    "As described in the paper: \n",
    "Long and short bars represent modified standard deviations and errors, respectively\n",
    "\n",
    "#### Please read the last paragraphs of Section 2.1 of the paper to understand the meaning of these uncertainties:\n",
    "\n",
    "![figures](https://github.com/fedhere/DSPS/blob/master/HW4/figures.png?raw=1)\n",
    "\n"
   ]
  },
  {
   "cell_type": "markdown",
   "metadata": {
    "ExecuteTime": {
     "end_time": "2019-09-22T00:10:02.465470Z",
     "start_time": "2019-09-22T00:10:02.455255Z"
    },
    "colab_type": "text",
    "id": "cFMt0FQBf6ex",
    "run_control": {
     "frozen": false,
     "read_only": false
    }
   },
   "source": [
    "\n",
    "\n",
    "![text](https://github.com/fedhere/DSPS/blob/master/HW4/text.png?raw=1)\n",
    "\n",
    "### data ingestion\n",
    "Get the data from the github repository https://github.com/fedhere/DSPS/tree/master/HW4 : there are 2 files: mw.csv and m31.csv. Start with M31, the Andromeda galaxy, Vera Rubin's original target."
   ]
  },
  {
   "cell_type": "markdown",
   "metadata": {
    "colab_type": "text",
    "id": "_iFrkUYEV1SS",
    "run_control": {
     "frozen": false,
     "read_only": false
    }
   },
   "source": [
    "Note that the data contains 2 types of uncertainties: one significantly smaller than the other. The ```dv``` uncertainty is the propagation of the uncertainty in the location of the HII line. The uncertainty called ```err``` if the full error budget:  including _all_ sources of uncertainty and not just the uncertainty in measuring the location of the line. Retain both, you will test your hypothesis with each one to see if it matters which uncertainty you choose"
   ]
  },
  {
   "cell_type": "code",
   "execution_count": 2,
   "metadata": {
    "colab": {},
    "colab_type": "code",
    "id": "PFYBlhUjt8_e",
    "run_control": {
     "frozen": false,
     "read_only": false
    }
   },
   "outputs": [],
   "source": [
    "m31 = pd.read_csv('https://raw.githubusercontent.com/fedhere/DSPS/master/HW4/m31.csv')\n",
    "m31.columns = ['r','v','dv','err']\n",
    "m31 = m31.drop([0],axis=0);"
   ]
  },
  {
   "cell_type": "code",
   "execution_count": 3,
   "metadata": {
    "colab": {
     "base_uri": "https://localhost:8080/",
     "height": 195
    },
    "colab_type": "code",
    "id": "luL5UrsNQ1M1",
    "outputId": "32ec2016-8e1f-4f83-e134-b5d7fcf5fe5c",
    "run_control": {
     "frozen": false,
     "read_only": false
    }
   },
   "outputs": [
    {
     "data": {
      "text/html": [
       "<div>\n",
       "<style scoped>\n",
       "    .dataframe tbody tr th:only-of-type {\n",
       "        vertical-align: middle;\n",
       "    }\n",
       "\n",
       "    .dataframe tbody tr th {\n",
       "        vertical-align: top;\n",
       "    }\n",
       "\n",
       "    .dataframe thead th {\n",
       "        text-align: right;\n",
       "    }\n",
       "</style>\n",
       "<table border=\"1\" class=\"dataframe\">\n",
       "  <thead>\n",
       "    <tr style=\"text-align: right;\">\n",
       "      <th></th>\n",
       "      <th>r</th>\n",
       "      <th>v</th>\n",
       "      <th>dv</th>\n",
       "      <th>err</th>\n",
       "    </tr>\n",
       "  </thead>\n",
       "  <tbody>\n",
       "    <tr>\n",
       "      <td>1</td>\n",
       "      <td>0.100</td>\n",
       "      <td>183.939</td>\n",
       "      <td>0.000</td>\n",
       "      <td>0.000</td>\n",
       "    </tr>\n",
       "    <tr>\n",
       "      <td>2</td>\n",
       "      <td>0.120</td>\n",
       "      <td>190.710</td>\n",
       "      <td>10.265</td>\n",
       "      <td>12.191</td>\n",
       "    </tr>\n",
       "    <tr>\n",
       "      <td>3</td>\n",
       "      <td>0.144</td>\n",
       "      <td>204.141</td>\n",
       "      <td>22.634</td>\n",
       "      <td>21.808</td>\n",
       "    </tr>\n",
       "    <tr>\n",
       "      <td>4</td>\n",
       "      <td>0.173</td>\n",
       "      <td>207.601</td>\n",
       "      <td>4.573</td>\n",
       "      <td>4.200</td>\n",
       "    </tr>\n",
       "    <tr>\n",
       "      <td>5</td>\n",
       "      <td>0.207</td>\n",
       "      <td>210.188</td>\n",
       "      <td>3.943</td>\n",
       "      <td>3.258</td>\n",
       "    </tr>\n",
       "  </tbody>\n",
       "</table>\n",
       "</div>"
      ],
      "text/plain": [
       "       r        v      dv     err\n",
       "1  0.100  183.939   0.000   0.000\n",
       "2  0.120  190.710  10.265  12.191\n",
       "3  0.144  204.141  22.634  21.808\n",
       "4  0.173  207.601   4.573   4.200\n",
       "5  0.207  210.188   3.943   3.258"
      ]
     },
     "execution_count": 3,
     "metadata": {},
     "output_type": "execute_result"
    }
   ],
   "source": [
    "\n",
    "m31.head()"
   ]
  },
  {
   "cell_type": "code",
   "execution_count": 4,
   "metadata": {
    "ExecuteTime": {
     "end_time": "2019-08-02T01:35:26.395158Z",
     "start_time": "2019-08-02T01:35:26.373338Z"
    },
    "colab": {
     "base_uri": "https://localhost:8080/",
     "height": 166
    },
    "colab_type": "code",
    "id": "QsNRokb1OdCh",
    "outputId": "09abb08e-8a21-47f2-8d9b-81f7df62f68f",
    "run_control": {
     "frozen": false,
     "read_only": false
    }
   },
   "outputs": [
    {
     "data": {
      "text/html": [
       "<div>\n",
       "<style scoped>\n",
       "    .dataframe tbody tr th:only-of-type {\n",
       "        vertical-align: middle;\n",
       "    }\n",
       "\n",
       "    .dataframe tbody tr th {\n",
       "        vertical-align: top;\n",
       "    }\n",
       "\n",
       "    .dataframe thead th {\n",
       "        text-align: right;\n",
       "    }\n",
       "</style>\n",
       "<table border=\"1\" class=\"dataframe\">\n",
       "  <thead>\n",
       "    <tr style=\"text-align: right;\">\n",
       "      <th></th>\n",
       "      <th>r</th>\n",
       "      <th>v</th>\n",
       "      <th>dv</th>\n",
       "      <th>err</th>\n",
       "    </tr>\n",
       "  </thead>\n",
       "  <tbody>\n",
       "    <tr>\n",
       "      <td>count</td>\n",
       "      <td>55</td>\n",
       "      <td>55</td>\n",
       "      <td>55</td>\n",
       "      <td>55</td>\n",
       "    </tr>\n",
       "    <tr>\n",
       "      <td>unique</td>\n",
       "      <td>55</td>\n",
       "      <td>55</td>\n",
       "      <td>55</td>\n",
       "      <td>55</td>\n",
       "    </tr>\n",
       "    <tr>\n",
       "      <td>top</td>\n",
       "      <td>41.019</td>\n",
       "      <td>238.997</td>\n",
       "      <td>29.037</td>\n",
       "      <td>2.106</td>\n",
       "    </tr>\n",
       "    <tr>\n",
       "      <td>freq</td>\n",
       "      <td>1</td>\n",
       "      <td>1</td>\n",
       "      <td>1</td>\n",
       "      <td>1</td>\n",
       "    </tr>\n",
       "  </tbody>\n",
       "</table>\n",
       "</div>"
      ],
      "text/plain": [
       "             r        v      dv    err\n",
       "count       55       55      55     55\n",
       "unique      55       55      55     55\n",
       "top     41.019  238.997  29.037  2.106\n",
       "freq         1        1       1      1"
      ]
     },
     "execution_count": 4,
     "metadata": {},
     "output_type": "execute_result"
    }
   ],
   "source": [
    "m31.describe()"
   ]
  },
  {
   "cell_type": "markdown",
   "metadata": {
    "colab_type": "text",
    "id": "Vv0Ut6vOOdCk",
    "run_control": {
     "frozen": false,
     "read_only": false
    }
   },
   "source": [
    "from https://en.wikipedia.org/wiki/Andromeda_Galaxy get the extent of the luminous component of M31 (Andromeda). The distance of the Galaxy multiplied by the angular size will give you this information from basic trigonometry (make sure you convert the units properly, using astropy). Make sure you include the uncertainties! uncertainties in the distance will give you the uncertainty in the size\n",
    "   \n",
    " "
   ]
  },
  {
   "cell_type": "code",
   "execution_count": 5,
   "metadata": {
    "colab": {},
    "colab_type": "code",
    "id": "kvIFr6D778ri",
    "run_control": {
     "frozen": false,
     "read_only": false
    }
   },
   "outputs": [],
   "source": [
    "apparentSizeM31 = 3.167 #deg 3.167 / 2\n",
    "distanceM31 = 778 #kpc \n",
    "distUncertM31 = 33"
   ]
  },
  {
   "cell_type": "markdown",
   "metadata": {},
   "source": [
    "<span style=\"color:red\">**-0.1 pt: for using diameter not radius**</span>"
   ]
  },
  {
   "cell_type": "code",
   "execution_count": 6,
   "metadata": {
    "ExecuteTime": {
     "end_time": "2019-08-02T01:35:41.413407Z",
     "start_time": "2019-08-02T01:35:41.408764Z"
    },
    "colab": {
     "base_uri": "https://localhost:8080/",
     "height": 34
    },
    "colab_type": "code",
    "id": "tzGNh98hOdCl",
    "outputId": "c460762d-6e59-4d59-fe03-758520fe64ad",
    "run_control": {
     "frozen": false,
     "read_only": false
    }
   },
   "outputs": [
    {
     "name": "stdout",
     "output_type": "stream",
     "text": [
      "Angular Size of the visible component of Andromeda: 0.06 rad\n"
     ]
    }
   ],
   "source": [
    "# note : by PEP8 standards the import should be at the top, I leave it here for hyou to see that I am using astropy.units now\n",
    "from astropy import units as u\n",
    "m31angS = apparentSizeM31 * u.degree\n",
    "print(\"Angular Size of the visible component of Andromeda: {:.2f}\".format(m31angS.to(u.rad)  ))"
   ]
  },
  {
   "cell_type": "markdown",
   "metadata": {
    "colab_type": "text",
    "id": "cOw0Y4KNWTOZ",
    "run_control": {
     "frozen": false,
     "read_only": false
    }
   },
   "source": [
    "Please make sure you print a sensible number of decimal digits! you have a  number of significant digits set by the number of digit in the info you get from wikipedia"
   ]
  },
  {
   "cell_type": "markdown",
   "metadata": {
    "colab_type": "text",
    "id": "hF2wXZ988QgS",
    "run_control": {
     "frozen": false,
     "read_only": false
    }
   },
   "source": [
    "The distance, from Wikipedia, will have an uncertainty. Convert both to kiloparsecs Kpc"
   ]
  },
  {
   "cell_type": "code",
   "execution_count": 7,
   "metadata": {
    "ExecuteTime": {
     "end_time": "2019-08-02T01:35:42.257553Z",
     "start_time": "2019-08-02T01:35:42.254539Z"
    },
    "colab": {},
    "colab_type": "code",
    "id": "7-nEP6KrOdCo",
    "run_control": {
     "frozen": false,
     "read_only": false
    }
   },
   "outputs": [],
   "source": [
    "#Wikipedia has the distance listed in Kpc"
   ]
  },
  {
   "cell_type": "code",
   "execution_count": 8,
   "metadata": {
    "ExecuteTime": {
     "end_time": "2019-08-02T01:35:42.815232Z",
     "start_time": "2019-08-02T01:35:42.810316Z"
    },
    "colab": {
     "base_uri": "https://localhost:8080/",
     "height": 34
    },
    "colab_type": "code",
    "id": "0y_V9AuFOdCv",
    "outputId": "bcbf3ee6-0b7b-49b4-cc59-9c4231e431da",
    "run_control": {
     "frozen": false,
     "read_only": false
    }
   },
   "outputs": [
    {
     "name": "stdout",
     "output_type": "stream",
     "text": [
      "Size of the visible component of Andromeda: 778.00 kpc\n"
     ]
    }
   ],
   "source": [
    "#print(\"First measurement outside of the visible radius:\")\n",
    "#round(m31[m31.r > m31size].r.values[0], 2) * u.kpc\n",
    "\n",
    "m31distKpc = distanceM31 * u.kpc\n",
    "print(\"Size of the visible component of Andromeda: {:.2f}\".format(m31distKpc) )"
   ]
  },
  {
   "cell_type": "markdown",
   "metadata": {
    "colab_type": "text",
    "id": "_pTXgdTL8jv6",
    "run_control": {
     "frozen": false,
     "read_only": false
    }
   },
   "source": [
    "Print the distance like I printed the angular size. \n",
    "\n",
    "To get the physical size of the visible component of andtomeda you can use simple trigonometry: $y = r * sin(\\alpha) ~ \\sim ~ r \\alpha $ for small angles \n",
    "\n",
    "\n",
    "Print the physical size of the Andromeda galaxy (remember decimal digits, proper formatting etc etc). \n"
   ]
  },
  {
   "cell_type": "code",
   "execution_count": 9,
   "metadata": {
    "colab": {
     "base_uri": "https://localhost:8080/",
     "height": 50
    },
    "colab_type": "code",
    "id": "_WtWROfy-dDa",
    "outputId": "1cbf0fbe-93c4-4c4d-cce1-e0db13e77aa6"
   },
   "outputs": [
    {
     "name": "stdout",
     "output_type": "stream",
     "text": [
      "21.5018106127469 kpc\n",
      "0.9120305272758968 kpc\n"
     ]
    }
   ],
   "source": [
    "m31sizeKpc = (m31angS.to(u.rad) * m31distKpc) / u.rad / 2\n",
    "m31sizeKpcUncert = m31sizeKpc * ( (distUncertM31 * u.kpc) / m31distKpc )\n",
    "print(m31sizeKpc)\n",
    "print(m31sizeKpcUncert)"
   ]
  },
  {
   "cell_type": "markdown",
   "metadata": {},
   "source": [
    "<span style=\"color:red\">**-0.1 pt: for keep all decimal digits**</span>"
   ]
  },
  {
   "cell_type": "markdown",
   "metadata": {
    "colab_type": "text",
    "id": "97o52hRhOdCy",
    "run_control": {
     "frozen": false,
     "read_only": false
    }
   },
   "source": [
    "### find the first measurement  in your data table that includes all the luminous mass. \n",
    "\n",
    "What is the smallest radius in your data where the luminous mass is completely included and what is the veolcity at that radius?\n",
    "You can do it by broadcasting (see homework 3)"
   ]
  },
  {
   "cell_type": "code",
   "execution_count": 10,
   "metadata": {
    "colab": {
     "base_uri": "https://localhost:8080/",
     "height": 195
    },
    "colab_type": "code",
    "id": "2_kPUYkVM-6x",
    "outputId": "87b044c1-7f65-4e45-d4ce-bf796ed1b012"
   },
   "outputs": [
    {
     "data": {
      "text/html": [
       "<div>\n",
       "<style scoped>\n",
       "    .dataframe tbody tr th:only-of-type {\n",
       "        vertical-align: middle;\n",
       "    }\n",
       "\n",
       "    .dataframe tbody tr th {\n",
       "        vertical-align: top;\n",
       "    }\n",
       "\n",
       "    .dataframe thead th {\n",
       "        text-align: right;\n",
       "    }\n",
       "</style>\n",
       "<table border=\"1\" class=\"dataframe\">\n",
       "  <thead>\n",
       "    <tr style=\"text-align: right;\">\n",
       "      <th></th>\n",
       "      <th>r</th>\n",
       "      <th>v</th>\n",
       "      <th>dv</th>\n",
       "      <th>err</th>\n",
       "    </tr>\n",
       "  </thead>\n",
       "  <tbody>\n",
       "    <tr>\n",
       "      <td>31</td>\n",
       "      <td>23.738</td>\n",
       "      <td>236.511</td>\n",
       "      <td>11.729</td>\n",
       "      <td>1.580</td>\n",
       "    </tr>\n",
       "    <tr>\n",
       "      <td>32</td>\n",
       "      <td>28.485</td>\n",
       "      <td>232.335</td>\n",
       "      <td>16.577</td>\n",
       "      <td>2.106</td>\n",
       "    </tr>\n",
       "    <tr>\n",
       "      <td>33</td>\n",
       "      <td>34.182</td>\n",
       "      <td>233.530</td>\n",
       "      <td>27.353</td>\n",
       "      <td>3.826</td>\n",
       "    </tr>\n",
       "    <tr>\n",
       "      <td>34</td>\n",
       "      <td>41.019</td>\n",
       "      <td>230.444</td>\n",
       "      <td>52.432</td>\n",
       "      <td>9.815</td>\n",
       "    </tr>\n",
       "    <tr>\n",
       "      <td>35</td>\n",
       "      <td>49.222</td>\n",
       "      <td>237.069</td>\n",
       "      <td>109.381</td>\n",
       "      <td>23.924</td>\n",
       "    </tr>\n",
       "  </tbody>\n",
       "</table>\n",
       "</div>"
      ],
      "text/plain": [
       "         r        v       dv     err\n",
       "31  23.738  236.511   11.729   1.580\n",
       "32  28.485  232.335   16.577   2.106\n",
       "33  34.182  233.530   27.353   3.826\n",
       "34  41.019  230.444   52.432   9.815\n",
       "35  49.222  237.069  109.381  23.924"
      ]
     },
     "execution_count": 10,
     "metadata": {},
     "output_type": "execute_result"
    }
   ],
   "source": [
    "m31NotLum = m31[pd.to_numeric(m31['r']) > (m31sizeKpc / u.kpc)]\n",
    "m31NotLum.head()"
   ]
  },
  {
   "cell_type": "markdown",
   "metadata": {
    "colab_type": "text",
    "id": "TVWiU84XOdDA",
    "run_control": {
     "frozen": false,
     "read_only": false
    }
   },
   "source": [
    "We expect the velocity to decrease as 1/r if all mass is included: the velocity at a radius twice as far as the radius that includes all the mass should be a factor 2 slower, three times as far a factor 3 slower. "
   ]
  },
  {
   "cell_type": "markdown",
   "metadata": {
    "colab_type": "text",
    "id": "b096Ax33SiXl",
    "run_control": {
     "frozen": false,
     "read_only": false
    }
   },
   "source": [
    "write a function that \n",
    "\n",
    "1. finds the smallest radius in the dataset that is at least N times the radius of the visible galaxy, \n",
    "\n",
    "2. takes as arguments:\n",
    "    - the data and \n",
    "    - N \n",
    "    - the size of the luminous component of the galaxy\n",
    " \n",
    "2. Returns the value of the radius and its uncertainty and the velocity and its uncertainty"
   ]
  },
  {
   "cell_type": "code",
   "execution_count": 11,
   "metadata": {
    "ExecuteTime": {
     "end_time": "2019-08-02T02:07:26.053511Z",
     "start_time": "2019-08-02T02:07:26.046677Z"
    },
    "colab": {},
    "colab_type": "code",
    "id": "-_O34Bb7OdC2",
    "run_control": {
     "frozen": false,
     "read_only": false
    }
   },
   "outputs": [],
   "source": [
    "def getradii(gal, gsize, n):\n",
    "  '''\n",
    "  getradii  gets information for the first piece of data with a radius greater than N*gize\n",
    "  Inputs:\n",
    "    gal  dataframe for galaxy\n",
    "    gsize  radius of extension for luminous mass\n",
    "    n  integer value\n",
    "  Outputs:\n",
    "    r  least radius greater than N*gsize\n",
    "    dr  uncertainty in radius\n",
    "    v  velocity at r\n",
    "    dv  uncertainty, dv, in v\n",
    "    err  total uncertainty in v, err\n",
    "  '''\n",
    "  for index, row in gal.iterrows():\n",
    "    if (pd.to_numeric(row.r) > (n * gsize / u.kpc) ):\n",
    "      #Miscalculated, wrong by a factor Gm(r). Do not know how to get m(r)\n",
    "      dr = 2*(pd.to_numeric(row.v)**-3)*pd.to_numeric(row.dv);\n",
    "      return pd.to_numeric(row.r), dr, pd.to_numeric(row.v), pd.to_numeric(row.dv), pd.to_numeric(row.err)\n",
    "\n",
    "#m31Rds = (getradii(m31, m31size, 1),  \n",
    "#          getradii(m31, m31size, 2),  \n",
    "#          getradii(m31, m31size, 3))\n",
    "\n",
    "#print(m31Rds[0]), print(m31Rds[1]), print(m31Rds[2]);"
   ]
  },
  {
   "cell_type": "markdown",
   "metadata": {},
   "source": [
    "<span style=\"color:red\">**-0.1 pt: for missing function calling code and output**</span>"
   ]
  },
  {
   "cell_type": "markdown",
   "metadata": {
    "ExecuteTime": {
     "end_time": "2019-08-01T18:13:58.231637Z",
     "start_time": "2019-08-01T18:13:58.229447Z"
    },
    "colab_type": "text",
    "id": "ogu_iquzOdC5",
    "run_control": {
     "frozen": false,
     "read_only": false
    }
   },
   "source": [
    "### data visualization"
   ]
  },
  {
   "cell_type": "markdown",
   "metadata": {
    "colab_type": "text",
    "id": "kJ6MujVJUyel",
    "run_control": {
     "frozen": false,
     "read_only": false
    }
   },
   "source": [
    "make a plot that shows\n",
    "\n",
    "1. the rotational curve of the galaxy (as a line)\n",
    "\n",
    "2. each velocity as an errorbar with error equal to err in the same color as the line in 1\n",
    "\n",
    "3. each velocity as an errorbar with error equal to dv in  the same color but a different line thickness\n",
    "\n",
    "\n",
    "4. the datapoint corresponding to N=1, 2, 3 each in a different color. \n",
    "\n",
    "5. add a legend that indicates the meaning of each color (```pl.legend()```)\n",
    "\n",
    "6. add a text that indicates the velocity and its uncertainty (dv and err) just below the largest errorbar (```pl.text()```)\n",
    "\n",
    "7. limit the x axis to the \"relevant\" portion of the data"
   ]
  },
  {
   "cell_type": "code",
   "execution_count": 12,
   "metadata": {
    "ExecuteTime": {
     "end_time": "2019-08-02T03:01:27.556063Z",
     "start_time": "2019-08-02T03:01:27.302184Z"
    },
    "colab": {
     "base_uri": "https://localhost:8080/",
     "height": 269
    },
    "colab_type": "code",
    "id": "7IMXYY8BOdC6",
    "outputId": "01dac1c9-2ce8-4530-be6d-1129c7db1daa",
    "run_control": {
     "frozen": false,
     "read_only": false
    }
   },
   "outputs": [
    {
     "data": {
      "image/png": "[encoded data removed]",
      "text/plain": [
       "<Figure size 432x288 with 1 Axes>"
      ]
     },
     "metadata": {
      "needs_background": "light"
     },
     "output_type": "display_data"
    }
   ],
   "source": [
    "def plotGal(gal, rds):\n",
    "    '''\n",
    "    plotGal  produces galaxy rotation curve(GRC)\n",
    "    Inputs:\n",
    "      gal  dataframe for galaxy\n",
    "      rds  radius of extension for luminous mass\n",
    "    Outputs:\n",
    "      ax  plot of GRC, includes error bars and N=1,2,3\n",
    "    '''\n",
    "    ax = pl.figure().add_subplot(1,1,1)\n",
    "    pl.errorbar(pd.to_numeric(gal.r), pd.to_numeric(gal.v), yerr=pd.to_numeric(gal.dv), color='blue',lw=1)\n",
    "    #pl.errorbar(pd.to_numeric(gal.r), pd.to_numeric(gal.v), yerr=pd.to_numeric(gal.err), color='red',lw=1) would make error bars different\n",
    "    pl.errorbar(pd.to_numeric(gal.r), pd.to_numeric(gal.v), yerr=pd.to_numeric(gal.err), color='blue',lw=0.5)\n",
    "    pl.plot(pd.to_numeric(gal.r), pd.to_numeric(gal.v), color='blue',lw=0.5) #unnecessary?\n",
    "    pl.xlim(0,4*(rds/u.kpc))\n",
    "    for i in range(1,4):\n",
    "      r, dr, v, dv, err = getradii(gal,rds,i)\n",
    "      pl.errorbar(r,v,yerr=dv,lw=3)\n",
    "      pl.text(r-0.2*r,v-1.2*dv,\"{:.1f}\\n({:.1f},{:.1f})\".format(v,dv,err))\n",
    "    pl.legend( (\"v\",\"dv\", \"err\", \"r\", \"2*r\", \"3*r\") )\n",
    "plotGal(m31, m31sizeKpc)"
   ]
  },
  {
   "cell_type": "markdown",
   "metadata": {},
   "source": [
    "<span style=\"color:red\">**-0.1 pt: dv and err should using different line thickness**</span>"
   ]
  },
  {
   "cell_type": "markdown",
   "metadata": {
    "colab_type": "text",
    "id": "bIbv3YrhTo0X",
    "run_control": {
     "frozen": false,
     "read_only": false
    }
   },
   "source": [
    "Write a function that for a given dataset and a given luminous radius and a given N \n",
    "  \n",
    "  1) uses the function above to find the radius at least as large as needed and the velocity at that radius, \n",
    "  \n",
    "  2) states the expected drop in rotational velocities according to Newton's law $v\\propto 1/r$\n",
    "  \n",
    "  3) calculates the ratio of radii and the ratio of velocities at N radii from the center N=1 and N=N (input, e.g. 2, 3 etc) with uncertainties, \n",
    "  \n",
    "  4) and stated whether that ratio is consistent within the uncertainties with Newton's law $v \\propto 1/r$\n",
    "  \n",
    "Your function should print \n",
    "\n",
    "     - the expected ratio based on the radii, \n",
    "     - the calculated ratio using ```dv```, and its uncertainty, - \n",
    "     - the 2-$\\sigma$ upper and lower limits of the calculated ratio\n",
    "     - whether the expected ratio is within the $2-\\sigma$ of the calculated ratio, \n",
    "  5) and the same using ```err```  instead of ```dv```"
   ]
  },
  {
   "cell_type": "code",
   "execution_count": 13,
   "metadata": {
    "ExecuteTime": {
     "end_time": "2019-08-02T02:22:18.485172Z",
     "start_time": "2019-08-02T02:22:18.477807Z"
    },
    "colab": {},
    "colab_type": "code",
    "id": "1hhTw8N4OdDB",
    "run_control": {
     "frozen": false,
     "read_only": false
    }
   },
   "outputs": [],
   "source": [
    "def vratios(gal, rds, N, errType):\n",
    "  '''\n",
    "  vratios  determines 2-sigma test\n",
    "  Inputs:\n",
    "    gal  dataframe of galaxy rotation curve\n",
    "    rds  luminous radius\n",
    "    N  integer for multiple or rds\n",
    "    errType  String: 'dv' or 'err'\n",
    "  Outputs:\n",
    "    prints expected ration based on radii\n",
    "    prints calculated ratio using v and errType\n",
    "    prints 2-sigma limits\n",
    "    prints Is expected ratio within calculated ratio?\n",
    "  '''\n",
    "  minR, drMinR, vMinR, dvMinR, errMinR = getradii(gal,rds,1);\n",
    "  NR, drNR, vNR, dvNR, errNR = getradii(gal,rds,N);\n",
    "  expRatioR = NR/minR;\n",
    "  print(\"The velocity squared at around {} times the radius, is expected to decrease by a factor of {:.3}.\".format(N,expRatioR));\n",
    "  calcRatioV = (vNR/vMinR);\n",
    "  if (errType=='dv'):\n",
    "    calcRatioUncertV = (calcRatioV)*np.sqrt( (dvMinR/vMinR)**2 * (dvNR/vNR)**2 );\n",
    "  elif (errType=='err'):\n",
    "    calcRatioUncertV = (calcRatioV)*np.sqrt( (errMinR/vMinR)**2 * (errNR/vNR)**2 );\n",
    "  else:\n",
    "    print(\"This is wrong.\");\n",
    "  calcRatioUncertV = 2*calcRatioV*calcRatioUncertV;\n",
    "  calcRatioV = calcRatioV**2;\n",
    "  print( \"The velocity squared at around {} times the radius, is calculated to have decreased by \".format(N)\n",
    "       + \"{:.3f} with uncertainty {:.3f} which is {}.\".format(calcRatioV, calcRatioUncertV, errType) );\n",
    "  lowLim2Sigma = calcRatioV - 2 * calcRatioUncertV;\n",
    "  uppLim2Sigma = calcRatioV + 2 * calcRatioUncertV;\n",
    "  print( \"The lower limit is {:.3f} and the upper limit is {:.3f}.\".format(lowLim2Sigma, uppLim2Sigma) )\n",
    "  if ( (expRatioR >= lowLim2Sigma) and (expRatioR <= uppLim2Sigma) ):\n",
    "    print(\"The calculated velocity sqaured is not significantly different than the expected velocty squared at \"\n",
    "         + \"around {} times the radius.\\n\".format(N));\n",
    "  else:\n",
    "    print(\"The calculated velocity squared is significantly different than the expected velocity squared at \"\n",
    "         + \"around {} times the radius.\\n\".format(N));"
   ]
  },
  {
   "cell_type": "markdown",
   "metadata": {},
   "source": [
    "<span style=\"color:red\">**-0.1 pt: check your expected radio computation code**</span>"
   ]
  },
  {
   "cell_type": "code",
   "execution_count": 14,
   "metadata": {
    "ExecuteTime": {
     "end_time": "2019-08-02T02:22:20.233692Z",
     "start_time": "2019-08-02T02:22:20.225631Z"
    },
    "colab": {
     "base_uri": "https://localhost:8080/",
     "height": 1000
    },
    "colab_type": "code",
    "id": "8TPkTIthOdDI",
    "outputId": "9f36a667-fab9-41d5-ee2d-b84c0b142c34",
    "run_control": {
     "frozen": false,
     "read_only": false
    }
   },
   "outputs": [
    {
     "name": "stdout",
     "output_type": "stream",
     "text": [
      "The velocity squared at around 2 times the radius, is expected to decrease by a factor of 2.07.\n",
      "The velocity squared at around 2 times the radius, is calculated to have decreased by 1.005 with uncertainty 0.046 which is dv.\n",
      "The lower limit is 0.913 and the upper limit is 1.097.\n",
      "The calculated velocity squared is significantly different than the expected velocity squared at around 2 times the radius.\n",
      "\n",
      "The velocity squared at around 3 times the radius, is expected to decrease by a factor of 2.99.\n",
      "The velocity squared at around 3 times the radius, is calculated to have decreased by 0.853 with uncertainty 0.051 which is dv.\n",
      "The lower limit is 0.751 and the upper limit is 0.956.\n",
      "The calculated velocity squared is significantly different than the expected velocity squared at around 3 times the radius.\n",
      "\n",
      "The velocity squared at around 2 times the radius, is expected to decrease by a factor of 2.07.\n",
      "The velocity squared at around 2 times the radius, is calculated to have decreased by 1.005 with uncertainty 0.001 which is err.\n",
      "The lower limit is 1.002 and the upper limit is 1.007.\n",
      "The calculated velocity squared is significantly different than the expected velocity squared at around 2 times the radius.\n",
      "\n",
      "The velocity squared at around 3 times the radius, is expected to decrease by a factor of 2.99.\n",
      "The velocity squared at around 3 times the radius, is calculated to have decreased by 0.853 with uncertainty 0.001 which is err.\n",
      "The lower limit is 0.851 and the upper limit is 0.856.\n",
      "The calculated velocity squared is significantly different than the expected velocity squared at around 3 times the radius.\n",
      "\n"
     ]
    }
   ],
   "source": [
    "for i in range(2,4):\n",
    "  vratios(m31, m31sizeKpc, i, 'dv')\n",
    "for i in range(2,4):\n",
    "  vratios(m31, m31sizeKpc, i, 'err')"
   ]
  },
  {
   "cell_type": "markdown",
   "metadata": {
    "ExecuteTime": {
     "end_time": "2019-08-02T00:36:41.637045Z",
     "start_time": "2019-08-02T00:36:41.634825Z"
    },
    "colab_type": "text",
    "id": "6me5k4c1OdDY",
    "run_control": {
     "frozen": false,
     "read_only": false
    }
   },
   "source": [
    "### Discuss!"
   ]
  },
  {
   "cell_type": "markdown",
   "metadata": {
    "colab_type": "text",
    "id": "bifodushCiVz"
   },
   "source": [
    "Comparing the expected ratios of velocities to the calculated ratios and their uncertainties within 2-sigma, I found that there is a significant difference between the velocity ratio that was expected and the calculated velocity with 95% confidence. I have rejected the null hypothesis that the gravitational force due to the luminous mass in the Andromeda galaxy is the only force on orbiting stars outside the luminous radius. Thus, I have failed to reject the hypothesis that there is other, non-luminous, mass in the Andromeda galaxy."
   ]
  },
  {
   "cell_type": "markdown",
   "metadata": {},
   "source": [
    "<span style=\"color:red\">**-0.25 pt: not on the point. Andromeda the measured velocity ratios are inconsistent with the prediction from Newtonian gravity, even when including the uncertainties. However, the uncertainties reported in the paper have very different magnitude.**</span>"
   ]
  },
  {
   "cell_type": "markdown",
   "metadata": {
    "colab_type": "text",
    "id": "QIHRn8UlOdDZ",
    "run_control": {
     "frozen": false,
     "read_only": false
    }
   },
   "source": [
    "## do the same for the Milky Way. If your functions were create properly you should be able to reuse them seamlessly"
   ]
  },
  {
   "cell_type": "code",
   "execution_count": 15,
   "metadata": {
    "colab": {
     "base_uri": "https://localhost:8080/",
     "height": 195
    },
    "colab_type": "code",
    "id": "NVp9cJzv-Dic",
    "outputId": "4e9f9081-86f7-4e2b-a37d-ed967a26d80a",
    "run_control": {
     "frozen": false,
     "read_only": false
    }
   },
   "outputs": [
    {
     "data": {
      "text/html": [
       "<div>\n",
       "<style scoped>\n",
       "    .dataframe tbody tr th:only-of-type {\n",
       "        vertical-align: middle;\n",
       "    }\n",
       "\n",
       "    .dataframe tbody tr th {\n",
       "        vertical-align: top;\n",
       "    }\n",
       "\n",
       "    .dataframe thead th {\n",
       "        text-align: right;\n",
       "    }\n",
       "</style>\n",
       "<table border=\"1\" class=\"dataframe\">\n",
       "  <thead>\n",
       "    <tr style=\"text-align: right;\">\n",
       "      <th></th>\n",
       "      <th>r</th>\n",
       "      <th>v</th>\n",
       "      <th>dv</th>\n",
       "      <th>err</th>\n",
       "    </tr>\n",
       "  </thead>\n",
       "  <tbody>\n",
       "    <tr>\n",
       "      <td>1</td>\n",
       "      <td>0.010</td>\n",
       "      <td>119.061</td>\n",
       "      <td>41.832</td>\n",
       "      <td>32.714</td>\n",
       "    </tr>\n",
       "    <tr>\n",
       "      <td>2</td>\n",
       "      <td>0.012</td>\n",
       "      <td>115.268</td>\n",
       "      <td>35.199</td>\n",
       "      <td>17.100</td>\n",
       "    </tr>\n",
       "    <tr>\n",
       "      <td>3</td>\n",
       "      <td>0.014</td>\n",
       "      <td>117.392</td>\n",
       "      <td>35.152</td>\n",
       "      <td>14.429</td>\n",
       "    </tr>\n",
       "    <tr>\n",
       "      <td>4</td>\n",
       "      <td>0.017</td>\n",
       "      <td>118.475</td>\n",
       "      <td>35.252</td>\n",
       "      <td>14.870</td>\n",
       "    </tr>\n",
       "    <tr>\n",
       "      <td>5</td>\n",
       "      <td>0.021</td>\n",
       "      <td>110.386</td>\n",
       "      <td>33.817</td>\n",
       "      <td>14.427</td>\n",
       "    </tr>\n",
       "  </tbody>\n",
       "</table>\n",
       "</div>"
      ],
      "text/plain": [
       "       r        v      dv     err\n",
       "1  0.010  119.061  41.832  32.714\n",
       "2  0.012  115.268  35.199  17.100\n",
       "3  0.014  117.392  35.152  14.429\n",
       "4  0.017  118.475  35.252  14.870\n",
       "5  0.021  110.386  33.817  14.427"
      ]
     },
     "execution_count": 15,
     "metadata": {},
     "output_type": "execute_result"
    }
   ],
   "source": [
    "mw = pd.read_csv('https://raw.githubusercontent.com/fedhere/DSPS/master/HW4/mw.csv');\n",
    "mw.columns = ['r','v','dv','err'];\n",
    "mw = mw.drop([0],axis=0);\n",
    "mw.head()"
   ]
  },
  {
   "cell_type": "code",
   "execution_count": 16,
   "metadata": {
    "colab": {
     "base_uri": "https://localhost:8080/",
     "height": 166
    },
    "colab_type": "code",
    "id": "G1vpkRllHTwi",
    "outputId": "6499eaa3-56f7-4452-e7de-27f46b6e7493"
   },
   "outputs": [
    {
     "data": {
      "text/html": [
       "<div>\n",
       "<style scoped>\n",
       "    .dataframe tbody tr th:only-of-type {\n",
       "        vertical-align: middle;\n",
       "    }\n",
       "\n",
       "    .dataframe tbody tr th {\n",
       "        vertical-align: top;\n",
       "    }\n",
       "\n",
       "    .dataframe thead th {\n",
       "        text-align: right;\n",
       "    }\n",
       "</style>\n",
       "<table border=\"1\" class=\"dataframe\">\n",
       "  <thead>\n",
       "    <tr style=\"text-align: right;\">\n",
       "      <th></th>\n",
       "      <th>r</th>\n",
       "      <th>v</th>\n",
       "      <th>dv</th>\n",
       "      <th>err</th>\n",
       "    </tr>\n",
       "  </thead>\n",
       "  <tbody>\n",
       "    <tr>\n",
       "      <td>count</td>\n",
       "      <td>64</td>\n",
       "      <td>64</td>\n",
       "      <td>64</td>\n",
       "      <td>64</td>\n",
       "    </tr>\n",
       "    <tr>\n",
       "      <td>unique</td>\n",
       "      <td>64</td>\n",
       "      <td>64</td>\n",
       "      <td>64</td>\n",
       "      <td>64</td>\n",
       "    </tr>\n",
       "    <tr>\n",
       "      <td>top</td>\n",
       "      <td>91.005</td>\n",
       "      <td>237.410</td>\n",
       "      <td>165.096</td>\n",
       "      <td>34.475</td>\n",
       "    </tr>\n",
       "    <tr>\n",
       "      <td>freq</td>\n",
       "      <td>1</td>\n",
       "      <td>1</td>\n",
       "      <td>1</td>\n",
       "      <td>1</td>\n",
       "    </tr>\n",
       "  </tbody>\n",
       "</table>\n",
       "</div>"
      ],
      "text/plain": [
       "             r        v       dv     err\n",
       "count       64       64       64      64\n",
       "unique      64       64       64      64\n",
       "top     91.005  237.410  165.096  34.475\n",
       "freq         1        1        1       1"
      ]
     },
     "execution_count": 16,
     "metadata": {},
     "output_type": "execute_result"
    }
   ],
   "source": [
    "mw.describe()"
   ]
  },
  {
   "cell_type": "code",
   "execution_count": 17,
   "metadata": {
    "colab": {
     "base_uri": "https://localhost:8080/",
     "height": 229
    },
    "colab_type": "code",
    "id": "LmKGPmL3HdIG",
    "outputId": "1b8bde05-4d29-412f-b450-46c111e44882"
   },
   "outputs": [
    {
     "name": "stdout",
     "output_type": "stream",
     "text": [
      "53.5 kpc\n",
      "7.5 kpc\n"
     ]
    },
    {
     "data": {
      "text/html": [
       "<div>\n",
       "<style scoped>\n",
       "    .dataframe tbody tr th:only-of-type {\n",
       "        vertical-align: middle;\n",
       "    }\n",
       "\n",
       "    .dataframe tbody tr th {\n",
       "        vertical-align: top;\n",
       "    }\n",
       "\n",
       "    .dataframe thead th {\n",
       "        text-align: right;\n",
       "    }\n",
       "</style>\n",
       "<table border=\"1\" class=\"dataframe\">\n",
       "  <thead>\n",
       "    <tr style=\"text-align: right;\">\n",
       "      <th></th>\n",
       "      <th>r</th>\n",
       "      <th>v</th>\n",
       "      <th>dv</th>\n",
       "      <th>err</th>\n",
       "    </tr>\n",
       "  </thead>\n",
       "  <tbody>\n",
       "    <tr>\n",
       "      <td>49</td>\n",
       "      <td>63.198</td>\n",
       "      <td>177.979</td>\n",
       "      <td>47.004</td>\n",
       "      <td>16.345</td>\n",
       "    </tr>\n",
       "    <tr>\n",
       "      <td>50</td>\n",
       "      <td>75.837</td>\n",
       "      <td>187.898</td>\n",
       "      <td>49.195</td>\n",
       "      <td>16.343</td>\n",
       "    </tr>\n",
       "    <tr>\n",
       "      <td>51</td>\n",
       "      <td>91.005</td>\n",
       "      <td>179.697</td>\n",
       "      <td>62.587</td>\n",
       "      <td>20.907</td>\n",
       "    </tr>\n",
       "    <tr>\n",
       "      <td>52</td>\n",
       "      <td>109.205</td>\n",
       "      <td>155.444</td>\n",
       "      <td>77.128</td>\n",
       "      <td>28.516</td>\n",
       "    </tr>\n",
       "    <tr>\n",
       "      <td>53</td>\n",
       "      <td>131.047</td>\n",
       "      <td>128.756</td>\n",
       "      <td>88.515</td>\n",
       "      <td>39.433</td>\n",
       "    </tr>\n",
       "  </tbody>\n",
       "</table>\n",
       "</div>"
      ],
      "text/plain": [
       "          r        v      dv     err\n",
       "49   63.198  177.979  47.004  16.345\n",
       "50   75.837  187.898  49.195  16.343\n",
       "51   91.005  179.697  62.587  20.907\n",
       "52  109.205  155.444  77.128  28.516\n",
       "53  131.047  128.756  88.515  39.433"
      ]
     },
     "execution_count": 17,
     "metadata": {},
     "output_type": "execute_result"
    }
   ],
   "source": [
    "mwsizeKpc = 53.5 * u.kpc\n",
    "mwsizeKpcUncert = 7.5 *u.kpc\n",
    "print(mwsizeKpc)\n",
    "print(mwsizeKpcUncert)\n",
    "mwNotLum = mw[pd.to_numeric(mw['r']) > (mwsizeKpc / u.kpc)]\n",
    "mwNotLum.head()"
   ]
  },
  {
   "cell_type": "markdown",
   "metadata": {},
   "source": [
    "<span style=\"color:red\">**-0.1 pt: size should divided by 2**</span>"
   ]
  },
  {
   "cell_type": "code",
   "execution_count": 18,
   "metadata": {
    "colab": {
     "base_uri": "https://localhost:8080/",
     "height": 269
    },
    "colab_type": "code",
    "id": "nt8bvoAkat7-",
    "outputId": "8b4e8181-6096-4137-e1ec-daccbff4b00c"
   },
   "outputs": [
    {
     "data": {
      "image/png": "[encoded data removed]",
      "text/plain": [
       "<Figure size 432x288 with 1 Axes>"
      ]
     },
     "metadata": {
      "needs_background": "light"
     },
     "output_type": "display_data"
    }
   ],
   "source": [
    "plotGal(mw, mwsizeKpc)"
   ]
  },
  {
   "cell_type": "code",
   "execution_count": 19,
   "metadata": {
    "colab": {
     "base_uri": "https://localhost:8080/",
     "height": 1000
    },
    "colab_type": "code",
    "id": "zN7wyu85a2sH",
    "outputId": "5e4fd16a-80a8-46dc-b9fc-1a99e0cc8db0"
   },
   "outputs": [
    {
     "name": "stdout",
     "output_type": "stream",
     "text": [
      "The velocity squared at around 1 times the radius, is expected to decrease by a factor of 1.0.\n",
      "The velocity squared at around 1 times the radius, is calculated to have decreased by 1.000 with uncertainty 0.139 which is dv.\n",
      "The lower limit is 0.721 and the upper limit is 1.279.\n",
      "The calculated velocity sqaured is not significantly different than the expected velocty squared at around 1 times the radius.\n",
      "\n",
      "The velocity squared at around 2 times the radius, is expected to decrease by a factor of 1.73.\n",
      "The velocity squared at around 2 times the radius, is calculated to have decreased by 0.763 with uncertainty 0.200 which is dv.\n",
      "The lower limit is 0.363 and the upper limit is 1.163.\n",
      "The calculated velocity squared is significantly different than the expected velocity squared at around 2 times the radius.\n",
      "\n",
      "The velocity squared at around 3 times the radius, is expected to decrease by a factor of 2.99.\n",
      "The velocity squared at around 3 times the radius, is calculated to have decreased by 0.564 with uncertainty 0.368 which is dv.\n",
      "The lower limit is -0.172 and the upper limit is 1.300.\n",
      "The calculated velocity squared is significantly different than the expected velocity squared at around 3 times the radius.\n",
      "\n",
      "The velocity squared at around 4 times the radius, is expected to decrease by a factor of 3.58.\n",
      "The velocity squared at around 4 times the radius, is calculated to have decreased by 1.341 with uncertainty 0.561 which is dv.\n",
      "The lower limit is 0.219 and the upper limit is 2.463.\n",
      "The calculated velocity squared is significantly different than the expected velocity squared at around 4 times the radius.\n",
      "\n",
      "The velocity squared at around 5 times the radius, is expected to decrease by a factor of 7.43.\n",
      "The velocity squared at around 5 times the radius, is calculated to have decreased by 0.273 with uncertainty 0.239 which is dv.\n",
      "The lower limit is -0.205 and the upper limit is 0.752.\n",
      "The calculated velocity squared is significantly different than the expected velocity squared at around 5 times the radius.\n",
      "\n",
      "The velocity squared at around 6 times the radius, is expected to decrease by a factor of 7.43.\n",
      "The velocity squared at around 6 times the radius, is calculated to have decreased by 0.273 with uncertainty 0.239 which is dv.\n",
      "The lower limit is -0.205 and the upper limit is 0.752.\n",
      "The calculated velocity squared is significantly different than the expected velocity squared at around 6 times the radius.\n",
      "\n",
      "The velocity squared at around 1 times the radius, is expected to decrease by a factor of 1.0.\n",
      "The velocity squared at around 1 times the radius, is calculated to have decreased by 1.000 with uncertainty 0.017 which is err.\n",
      "The lower limit is 0.966 and the upper limit is 1.034.\n",
      "The calculated velocity sqaured is not significantly different than the expected velocty squared at around 1 times the radius.\n",
      "\n",
      "The velocity squared at around 2 times the radius, is expected to decrease by a factor of 1.73.\n",
      "The velocity squared at around 2 times the radius, is calculated to have decreased by 0.763 with uncertainty 0.026 which is err.\n",
      "The lower limit is 0.711 and the upper limit is 0.814.\n",
      "The calculated velocity squared is significantly different than the expected velocity squared at around 2 times the radius.\n",
      "\n",
      "The velocity squared at around 3 times the radius, is expected to decrease by a factor of 2.99.\n",
      "The velocity squared at around 3 times the radius, is calculated to have decreased by 0.564 with uncertainty 0.084 which is err.\n",
      "The lower limit is 0.397 and the upper limit is 0.731.\n",
      "The calculated velocity squared is significantly different than the expected velocity squared at around 3 times the radius.\n",
      "\n",
      "The velocity squared at around 4 times the radius, is expected to decrease by a factor of 3.58.\n",
      "The velocity squared at around 4 times the radius, is calculated to have decreased by 1.341 with uncertainty 0.132 which is err.\n",
      "The lower limit is 1.077 and the upper limit is 1.605.\n",
      "The calculated velocity squared is significantly different than the expected velocity squared at around 4 times the radius.\n",
      "\n",
      "The velocity squared at around 5 times the radius, is expected to decrease by a factor of 7.43.\n",
      "The velocity squared at around 5 times the radius, is calculated to have decreased by 0.273 with uncertainty 0.052 which is err.\n",
      "The lower limit is 0.169 and the upper limit is 0.377.\n",
      "The calculated velocity squared is significantly different than the expected velocity squared at around 5 times the radius.\n",
      "\n",
      "The velocity squared at around 6 times the radius, is expected to decrease by a factor of 7.43.\n",
      "The velocity squared at around 6 times the radius, is calculated to have decreased by 0.273 with uncertainty 0.052 which is err.\n",
      "The lower limit is 0.169 and the upper limit is 0.377.\n",
      "The calculated velocity squared is significantly different than the expected velocity squared at around 6 times the radius.\n",
      "\n"
     ]
    }
   ],
   "source": [
    "for i in range(1,7):\n",
    "  vratios(mw, mwsizeKpc, i, 'dv')\n",
    "for i in range(1,7):\n",
    "  vratios(mw, mwsizeKpc, i, 'err')"
   ]
  },
  {
   "cell_type": "markdown",
   "metadata": {
    "colab_type": "text",
    "id": "TLyTaaTibRaE"
   },
   "source": [
    "Again, I found that the expected square ratio of the velocities to be significantly different from those calculated with 95% confidence. Thus, I'm able to reject the hypothesis that the orbiting systems of the Milky Way experience a gravitational force comprised of only luminous mass."
   ]
  }
 ],
 "metadata": {
  "colab": {
   "collapsed_sections": [],
   "include_colab_link": true,
   "name": "MWrotCurve.ipynb",
   "provenance": []
  },
  "kernelspec": {
   "display_name": "Python 3",
   "language": "python",
   "name": "python3"
  },
  "language_info": {
   "codemirror_mode": {
    "name": "ipython",
    "version": 3
   },
   "file_extension": ".py",
   "mimetype": "text/x-python",
   "name": "python",
   "nbconvert_exporter": "python",
   "pygments_lexer": "ipython3",
   "version": "3.6.8"
  },
  "nbTranslate": {
   "displayLangs": [
    "*"
   ],
   "hotkey": "alt-t",
   "langInMainMenu": true,
   "sourceLang": "en",
   "targetLang": "fr",
   "useGoogleTranslate": true
  },
  "toc": {
   "base_numbering": 1,
   "colors": {
    "hover_highlight": "#DAA520",
    "running_highlight": "#FF0000",
    "selected_highlight": "#FFD700"
   },
   "moveMenuLeft": true,
   "nav_menu": {},
   "navigate_menu": true,
   "number_sections": true,
   "sideBar": true,
   "skip_h1_title": false,
   "threshold": 4,
   "title_cell": "Table of Contents",
   "title_sidebar": "Contents",
   "toc_cell": false,
   "toc_position": {
    "height": "calc(100% - 180px)",
    "left": "10px",
    "top": "150px",
    "width": "165px"
   },
   "toc_section_display": true,
   "toc_window_display": true
  }
 },
 "nbformat": 4,
 "nbformat_minor": 1
}
