{
  "nbformat": 4,
  "nbformat_minor": 0,
  "metadata": {
    "colab": {
      "name": "zGermain_interactingWDrive.ipynb",
      "provenance": [],
      "collapsed_sections": [],
      "include_colab_link": true
    },
    "kernelspec": {
      "name": "python3",
      "display_name": "Python 3"
    }
  },
  "cells": [
    {
      "cell_type": "markdown",
      "metadata": {
        "id": "view-in-github",
        "colab_type": "text"
      },
      "source": [
        "<a href=\"https://colab.research.google.com/github/ZachGermain/DSPS_zgermain/blob/master/HW5_zGermain/zGermain_interactingWDrive.ipynb\" target=\"_parent\"><img src=\"https://colab.research.google.com/assets/colab-badge.svg\" alt=\"Open In Colab\"/></a>"
      ]
    },
    {
      "cell_type": "markdown",
      "metadata": {
        "id": "nrn7kPcZRdjY",
        "colab_type": "text"
      },
      "source": [
        "# Review the operations below to interact with your drive and complete the final task"
      ]
    },
    {
      "cell_type": "markdown",
      "metadata": {
        "id": "2R3CZcH2CpDE",
        "colab_type": "text"
      },
      "source": [
        "### Integrating Colaboratory with Google Drive"
      ]
    },
    {
      "cell_type": "markdown",
      "metadata": {
        "id": "rx6E_qY6Cs42",
        "colab_type": "text"
      },
      "source": [
        "If we are going to be grabbing data from the internet for use with colaboratory, we'll need to use our google drive"
      ]
    },
    {
      "cell_type": "code",
      "metadata": {
        "id": "4q6UFssL5jyx",
        "colab_type": "code",
        "outputId": "359f8f81-8cda-46e2-ac40-dbfe92aba686",
        "colab": {
          "base_uri": "https://localhost:8080/",
          "height": 121
        }
      },
      "source": [
        "from google.colab import drive\n",
        "drive.mount(\"/content/drive\")"
      ],
      "execution_count": 5,
      "outputs": [
        {
          "output_type": "stream",
          "text": [
            "Go to this URL in a browser: https://accounts.google.com/o/oauth2/auth?client_id=947318989803-6bn6qk8qdgf4n4g3pfee6491hc0brc4i.apps.googleusercontent.com&redirect_uri=urn%3Aietf%3Awg%3Aoauth%3A2.0%3Aoob&scope=email%20https%3A%2F%2Fwww.googleapis.com%2Fauth%2Fdocs.test%20https%3A%2F%2Fwww.googleapis.com%2Fauth%2Fdrive%20https%3A%2F%2Fwww.googleapis.com%2Fauth%2Fdrive.photos.readonly%20https%3A%2F%2Fwww.googleapis.com%2Fauth%2Fpeopleapi.readonly&response_type=code\n",
            "\n",
            "Enter your authorization code:\n",
            "··········\n",
            "Mounted at /content/drive\n"
          ],
          "name": "stdout"
        }
      ]
    },
    {
      "cell_type": "markdown",
      "metadata": {
        "id": "9tHaFZxd6ghX",
        "colab_type": "text"
      },
      "source": [
        "### The unix terminal\n",
        "\n",
        "Unix is one of the oldest and most barebones Operating Systems (OS), but it serves as the platform for more advanced OSs like Mac OS and some modes of Windows.\n",
        "\n",
        "Unix and unix-based OSs like Mac OS, have a powerful utility called the \"Terminal\", that allows for a \"command line interface\" for interacting with your computer (Windows has something similar, but the syntax is different).\n",
        "\n",
        "Jupyter allows us to run some of these commands **as if we were in a terminal**:"
      ]
    },
    {
      "cell_type": "markdown",
      "metadata": {
        "id": "f1fFc1AJgJ16",
        "colab_type": "text"
      },
      "source": [
        "```ls``` lists the content of the directory you are in"
      ]
    },
    {
      "cell_type": "code",
      "metadata": {
        "id": "tbtlTGcv64xI",
        "colab_type": "code",
        "outputId": "88380379-d9a3-4b3c-8698-67b98ee1289b",
        "colab": {
          "base_uri": "https://localhost:8080/",
          "height": 50
        }
      },
      "source": [
        "ls"
      ],
      "execution_count": 26,
      "outputs": [
        {
          "output_type": "stream",
          "text": [
            "\u001b[0m\u001b[01;34mdrive\u001b[0m/        zbp16detail.zip    zbp16detail.zip.2\n",
            "\u001b[01;34msample_data\u001b[0m/  zbp16detail.zip.1  zbp16totals.zip\n"
          ],
          "name": "stdout"
        }
      ]
    },
    {
      "cell_type": "markdown",
      "metadata": {
        "id": "EcwyVKKhqxy6",
        "colab_type": "text"
      },
      "source": [
        "```pwd```  stants for present working directory and telss you which dir. you are in"
      ]
    },
    {
      "cell_type": "code",
      "metadata": {
        "id": "sdXEW_i7GhoG",
        "colab_type": "code",
        "outputId": "59525f8b-713d-4354-f827-9fad47de71eb",
        "colab": {
          "base_uri": "https://localhost:8080/",
          "height": 34
        }
      },
      "source": [
        "pwd"
      ],
      "execution_count": 27,
      "outputs": [
        {
          "output_type": "execute_result",
          "data": {
            "text/plain": [
              "'/content'"
            ]
          },
          "metadata": {
            "tags": []
          },
          "execution_count": 27
        }
      ]
    },
    {
      "cell_type": "markdown",
      "metadata": {
        "id": "Mgnac-c6rIRr",
        "colab_type": "text"
      },
      "source": [
        "```ls``` with an argument lists the content of the directory path indicated by the argument "
      ]
    },
    {
      "cell_type": "code",
      "metadata": {
        "id": "-KAOhizC68Yv",
        "colab_type": "code",
        "outputId": "d85fb208-f952-4fa8-ce64-570c99fb55e0",
        "colab": {
          "base_uri": "https://localhost:8080/",
          "height": 437
        }
      },
      "source": [
        "ls \"drive/My Drive\""
      ],
      "execution_count": 28,
      "outputs": [
        {
          "output_type": "stream",
          "text": [
            "\u001b[0m\u001b[01;34m'Colab Notebooks'\u001b[0m/\n",
            " \u001b[01;34mdsps2018_dir\u001b[0m/\n",
            "'EoE Memo.gdoc'\n",
            "'Getting started.pdf'\n",
            " HI.gdoc\n",
            "'image1 (1).jpeg'\n",
            " image1.jpeg\n",
            " image2.jpeg\n",
            "'Lab 3: Damped Pendulum.gdoc'\n",
            "'Lab 4.gdoc'\n",
            "'Lab 4.gsheet'\n",
            "'Lab 5.gdoc'\n",
            " out_Ar_6.dat\n",
            "'Outline and Coming to Terms Assignment; Zachariah Germain.gdoc'\n",
            " Paper_1.docx\n",
            " Paper_1.gdoc\n",
            "'Paper 2: First Draft.gdoc'\n",
            "'Paper 2: Second Draft.gdoc'\n",
            "'Paper 2: Third Draft.gdoc'\n",
            " \u001b[01;34mrunCutoffv5\u001b[0m/\n",
            "'Third Paper: Biblio and Memo.gdoc'\n",
            "'Third Paper: First Draft.gdoc'\n",
            "'Third Paper: Second Draft.gdoc'\n",
            "'Third Paper: Third Draft.gdoc'\n",
            "'Wallace'\\''s \"This is Water\" First Draft.gdoc'\n"
          ],
          "name": "stdout"
        }
      ]
    },
    {
      "cell_type": "markdown",
      "metadata": {
        "id": "O4unVfVs6_2t",
        "colab_type": "text"
      },
      "source": [
        "Some of the most common and useful are:\n",
        "* ls - list the files in the current directory\n",
        "* cp - copy one file to another\n",
        "* cd - change the directory\n",
        "* mv - rename (move) a file\n",
        "* mkdir - make a directory\n",
        "* rm - delete a file\n",
        "* rmdir - delete an empty directory\n",
        "\n",
        "Bear in mind **these are <u>not</u> python commands**, but jupyter understands them.  Here are some examples that\n",
        "\n",
        "1. list the files in your google drive\n",
        "2. make a directory, test_dir, in your Google Drive\n",
        "3. copy a file from google drive, renaming it\n",
        "4. moving that copy into test_dir\n",
        "5. deleting the file from test_dit\n",
        "6. deleting the test_dir directory\n",
        "7. changing directories to your google drive\n",
        "8. listing the files there\n",
        "9. identifying your current working directory\n",
        "10. getting back to your colaboratory home directory\n"
      ]
    },
    {
      "cell_type": "markdown",
      "metadata": {
        "id": "ko2OLRhwreLc",
        "colab_type": "text"
      },
      "source": [
        "Make a new directory (folder)"
      ]
    },
    {
      "cell_type": "code",
      "metadata": {
        "id": "nc3PxtkeQhhI",
        "colab_type": "code",
        "outputId": "c6bf61c0-f4b5-422c-f14b-6375d0cad5e5",
        "colab": {
          "base_uri": "https://localhost:8080/",
          "height": 34
        }
      },
      "source": [
        "mkdir \"drive/My Drive/test_dir\""
      ],
      "execution_count": 47,
      "outputs": [
        {
          "output_type": "stream",
          "text": [
            "mkdir: cannot create directory ‘drive/My Drive/test_dir’: File exists\n"
          ],
          "name": "stdout"
        }
      ]
    },
    {
      "cell_type": "code",
      "metadata": {
        "id": "tGR3o3rTulg-",
        "colab_type": "code",
        "outputId": "6cb8f570-60ce-4d94-d50a-7175f03c8afc",
        "colab": {
          "base_uri": "https://localhost:8080/",
          "height": 470
        }
      },
      "source": [
        "ls -ltr \"drive/My Drive\" #-ltr prints the permissions on each file and sorts the files by date last opened/modified"
      ],
      "execution_count": 30,
      "outputs": [
        {
          "output_type": "stream",
          "text": [
            "total 5277\n",
            "-rw------- 1 root root  696774 Sep 11  2017 'Getting started.pdf'\n",
            "-rw------- 1 root root     151 Oct 28  2017 'Lab 3: Damped Pendulum.gdoc'\n",
            "-rw------- 1 root root     151 Nov 11  2017 'Lab 4.gsheet'\n",
            "-rw------- 1 root root     151 Nov 11  2017 'Lab 4.gdoc'\n",
            "-rw------- 1 root root     151 Dec 11  2017 'Lab 5.gdoc'\n",
            "-rw------- 1 root root     151 Feb 20  2018 'Outline and Coming to Terms Assignment; Zachariah Germain.gdoc'\n",
            "-rw------- 1 root root     151 Apr  2  2018 'Wallace'\\''s \"This is Water\" First Draft.gdoc'\n",
            "-rw------- 1 root root     151 Apr 12  2018 'EoE Memo.gdoc'\n",
            "-rw------- 1 root root     151 Apr 17  2018 'Paper 2: First Draft.gdoc'\n",
            "-rw------- 1 root root     151 Apr 19  2018 'Paper 2: Second Draft.gdoc'\n",
            "-rw------- 1 root root     151 May  3  2018 'Third Paper: Biblio and Memo.gdoc'\n",
            "-rw------- 1 root root 1368361 May  6  2018 'image1 (1).jpeg'\n",
            "-rw------- 1 root root 2262888 May  6  2018  image2.jpeg\n",
            "-rw------- 1 root root     151 May  7  2018 'Paper 2: Third Draft.gdoc'\n",
            "-rw------- 1 root root     151 May 10  2018 'Third Paper: First Draft.gdoc'\n",
            "-rw------- 1 root root     151 May 14  2018 'Third Paper: Second Draft.gdoc'\n",
            "-rw------- 1 root root 1025616 May 20  2018  image1.jpeg\n",
            "-rw------- 1 root root     151 May 21  2018 'Third Paper: Third Draft.gdoc'\n",
            "-rw------- 1 root root   17691 Aug 31  2018  Paper_1.docx\n",
            "-rw------- 1 root root     151 Aug 31  2018  Paper_1.gdoc\n",
            "-rw------- 1 root root     151 May 13 22:38  HI.gdoc\n",
            "-rw------- 1 root root    5690 Jun 24 14:36  out_Ar_6.dat\n",
            "drwx------ 2 root root    4096 Sep  4 20:29 \u001b[0m\u001b[01;34m'Colab Notebooks'\u001b[0m/\n",
            "drwx------ 2 root root    4096 Sep 24 18:16  \u001b[01;34mrunCutoffv5\u001b[0m/\n",
            "drwx------ 2 root root    4096 Sep 25 20:37  \u001b[01;34mdsps2018_dir\u001b[0m/\n",
            "drwx------ 2 root root    4096 Sep 30 21:38  \u001b[01;34mtest_dir\u001b[0m/\n"
          ],
          "name": "stdout"
        }
      ]
    },
    {
      "cell_type": "markdown",
      "metadata": {
        "id": "4zyURwS-7l9f",
        "colab_type": "text"
      },
      "source": [
        "These unix commands can also be combined with some python syntax using the os module (let's make a directory called \"data\" in your colaboratory home directory):"
      ]
    },
    {
      "cell_type": "markdown",
      "metadata": {
        "id": "pwxjxtXqQ8Ax",
        "colab_type": "text"
      },
      "source": [
        "download data from the web "
      ]
    },
    {
      "cell_type": "markdown",
      "metadata": {
        "id": "tDGHVey4rnZX",
        "colab_type": "text"
      },
      "source": [
        "to do that you can use wget, but that command is not \"included\" in the ```colab``` jupyter notebook. the are unix commands. you can use them if you start the command with ```!```"
      ]
    },
    {
      "cell_type": "code",
      "metadata": {
        "id": "1MT_cagq5YId",
        "colab_type": "code",
        "outputId": "d4642817-65b5-4ed3-8e61-70d1efa134b9",
        "colab": {
          "base_uri": "https://localhost:8080/",
          "height": 202
        }
      },
      "source": [
        "!wget  https://www2.census.gov/programs-surveys/cbp/datasets/2016/zbp16totals.zip"
      ],
      "execution_count": 31,
      "outputs": [
        {
          "output_type": "stream",
          "text": [
            "--2019-09-30 21:38:48--  https://www2.census.gov/programs-surveys/cbp/datasets/2016/zbp16totals.zip\n",
            "Resolving www2.census.gov (www2.census.gov)... 23.46.52.46, 2600:1402:3800:29f::208c, 2600:1402:3800:29d::208c\n",
            "Connecting to www2.census.gov (www2.census.gov)|23.46.52.46|:443... connected.\n",
            "HTTP request sent, awaiting response... 200 OK\n",
            "Length: unspecified [application/zip]\n",
            "Saving to: ‘zbp16totals.zip.1’\n",
            "\n",
            "zbp16totals.zip.1       [     <=>            ] 750.30K   911KB/s    in 0.8s    \n",
            "\n",
            "2019-09-30 21:38:50 (911 KB/s) - ‘zbp16totals.zip.1’ saved [768303]\n",
            "\n"
          ],
          "name": "stdout"
        }
      ]
    },
    {
      "cell_type": "code",
      "metadata": {
        "id": "fxyEIHb15jTS",
        "colab_type": "code",
        "outputId": "64c7952e-7053-46ba-a7d2-812ace5b77fc",
        "colab": {
          "base_uri": "https://localhost:8080/",
          "height": 34
        }
      },
      "source": [
        "ls"
      ],
      "execution_count": 43,
      "outputs": [
        {
          "output_type": "stream",
          "text": [
            "\u001b[0m\u001b[01;34mdrive\u001b[0m/  \u001b[01;34msample_data\u001b[0m/  zbp16detail.zip  zbp16totals.zip\n"
          ],
          "name": "stdout"
        }
      ]
    },
    {
      "cell_type": "markdown",
      "metadata": {
        "id": "c_PcMBKesDk0",
        "colab_type": "text"
      },
      "source": [
        "same with ```unzip``` to expand a compressed zip file. the argument ```-d <path> ```expands into \"path\""
      ]
    },
    {
      "cell_type": "code",
      "metadata": {
        "id": "s5v5BZJ3Xdur",
        "colab_type": "code",
        "outputId": "7242e3be-0acd-4185-989a-d26e3934a6bb",
        "colab": {
          "base_uri": "https://localhost:8080/",
          "height": 50
        }
      },
      "source": [
        "!unzip  zbp16totals.zip -d \"drive/My Drive/test_dir\""
      ],
      "execution_count": 0,
      "outputs": [
        {
          "output_type": "stream",
          "text": [
            "Archive:  zbp16totals.zip\n",
            "  inflating: drive/My Drive/test_dir/zbp16totals.txt  \n"
          ],
          "name": "stdout"
        }
      ]
    },
    {
      "cell_type": "code",
      "metadata": {
        "id": "u_Uh9bVGvqcN",
        "colab_type": "code",
        "colab": {}
      },
      "source": [
        "ls \"drive/My Drive/test_dir\""
      ],
      "execution_count": 0,
      "outputs": []
    },
    {
      "cell_type": "markdown",
      "metadata": {
        "id": "qXRmtlnNs0Vj",
        "colab_type": "text"
      },
      "source": [
        "Another way to access unix commands is to use the module ```os``` and specifically the function ```os.system()```.  This function performs operations and returns a success vs error state. So I cannot use it, for example, ro tun ```ls```"
      ]
    },
    {
      "cell_type": "code",
      "metadata": {
        "id": "a3SncaivAbiW",
        "colab_type": "code",
        "outputId": "d7246624-3488-4e84-d331-add814174f8b",
        "colab": {
          "base_uri": "https://localhost:8080/",
          "height": 34
        }
      },
      "source": [
        "# -- import the os module for operating system interaction\n",
        "import os\n",
        "cmd = \"ls drive/My\\ Drive/test_dir\"\n",
        "os.system(cmd)\n"
      ],
      "execution_count": 6,
      "outputs": [
        {
          "output_type": "execute_result",
          "data": {
            "text/plain": [
              "0"
            ]
          },
          "metadata": {
            "tags": []
          },
          "execution_count": 6
        }
      ]
    },
    {
      "cell_type": "markdown",
      "metadata": {
        "id": "3Va195cMvwIj",
        "colab_type": "text"
      },
      "source": [
        "0 means no error: the command was executed without problem. Any other number will indicate an error (and you can google the meaning of the number.) But i do not see the output of the command. so use this if you want to know if the command worked, but you do not care to see its output. "
      ]
    },
    {
      "cell_type": "code",
      "metadata": {
        "id": "Fgc3es91t_2Q",
        "colab_type": "code",
        "colab": {}
      },
      "source": [
        "ls \"drive/My Drive/test_dir\""
      ],
      "execution_count": 0,
      "outputs": []
    },
    {
      "cell_type": "markdown",
      "metadata": {
        "id": "6ag3Fl2ewT7Q",
        "colab_type": "text"
      },
      "source": [
        "For example I can use it to remove files and directories: ```rm``` (```rm -r``` which means recursively, for a directory)"
      ]
    },
    {
      "cell_type": "markdown",
      "metadata": {
        "id": "NDyuo78caaLr",
        "colab_type": "text"
      },
      "source": [
        "Note the syntax: you need to parse the space with a \"\\ \" in front of it to be rendered correctly in the string when you use ```os.system()```\n"
      ]
    },
    {
      "cell_type": "code",
      "metadata": {
        "id": "zD8PLjlEAdqN",
        "colab_type": "code",
        "outputId": "66bceb83-f421-4a5b-f97f-562c81cabb4a",
        "colab": {
          "base_uri": "https://localhost:8080/",
          "height": 34
        }
      },
      "source": [
        "# -- create a string that contains the command you want\n",
        "cmd = \"rm -r drive/My\\ Drive/test_dir\"\n",
        "# -- execute the command with os.system (notice the output)\n",
        "os.system(cmd)"
      ],
      "execution_count": 0,
      "outputs": [
        {
          "output_type": "execute_result",
          "data": {
            "text/plain": [
              "0"
            ]
          },
          "metadata": {
            "tags": []
          },
          "execution_count": 17
        }
      ]
    },
    {
      "cell_type": "markdown",
      "metadata": {
        "id": "-CjLcfI9wtSs",
        "colab_type": "text"
      },
      "source": [
        "\n",
        "The directory is no longer there\n",
        "\n",
        "\n"
      ]
    },
    {
      "cell_type": "code",
      "metadata": {
        "id": "4dCwpj6oZaDY",
        "colab_type": "code",
        "colab": {}
      },
      "source": [
        "ls \"drive/My Drive/test_dir\""
      ],
      "execution_count": 0,
      "outputs": []
    },
    {
      "cell_type": "markdown",
      "metadata": {
        "colab_type": "text",
        "id": "4NMfx1UcaiNT"
      },
      "source": [
        "You can string unix commands together with the semicolon ; (cd stands for \"change directory\" and it moves you around)"
      ]
    },
    {
      "cell_type": "code",
      "metadata": {
        "colab_type": "code",
        "id": "Uf6J-Ir3ahB6",
        "outputId": "9558561c-9220-41fd-c898-0a81c196b79e",
        "colab": {
          "base_uri": "https://localhost:8080/",
          "height": 50
        }
      },
      "source": [
        "ls; cd drive; pwd"
      ],
      "execution_count": 50,
      "outputs": [
        {
          "output_type": "stream",
          "text": [
            "\u001b[0m\u001b[01;34mdrive\u001b[0m/  \u001b[01;34msample_data\u001b[0m/  zbp16detail.zip  zbp16totals.zip\n",
            "/content/drive\n"
          ],
          "name": "stdout"
        }
      ]
    },
    {
      "cell_type": "markdown",
      "metadata": {
        "id": "KhJgBEZMYrP6",
        "colab_type": "text"
      },
      "source": [
        "But again, <u>**these are not python commands and can't be used as such on their own**</u>:"
      ]
    },
    {
      "cell_type": "markdown",
      "metadata": {
        "id": "FL_G_W98AmNp",
        "colab_type": "text"
      },
      "source": [
        "We'll see how combining unix commands with python via os.system can be put to good use below."
      ]
    },
    {
      "cell_type": "markdown",
      "metadata": {
        "id": "B9Ku1bQQAp1z",
        "colab_type": "text"
      },
      "source": [
        "### The wget command\n",
        "\n",
        "When dealing with data on the web, the wget command can be very useful for quickly grabbing data that you want.  Let's get the zipcode business patterns for 2016 (note the exclamation point before the wget command):"
      ]
    },
    {
      "cell_type": "code",
      "metadata": {
        "id": "XxMIc-ZUAws6",
        "colab_type": "code",
        "outputId": "ff0adc65-fa6f-4863-95d2-f010fa10ea6d",
        "colab": {
          "base_uri": "https://localhost:8080/",
          "height": 202
        }
      },
      "source": [
        "!wget https://www2.census.gov/programs-surveys/cbp/datasets/2016/zbp16detail.zip"
      ],
      "execution_count": 23,
      "outputs": [
        {
          "output_type": "stream",
          "text": [
            "--2019-09-30 21:37:54--  https://www2.census.gov/programs-surveys/cbp/datasets/2016/zbp16detail.zip\n",
            "Resolving www2.census.gov (www2.census.gov)... 23.46.52.46, 2600:1402:3800:29f::208c, 2600:1402:3800:29d::208c\n",
            "Connecting to www2.census.gov (www2.census.gov)|23.46.52.46|:443... connected.\n",
            "HTTP request sent, awaiting response... 200 OK\n",
            "Length: unspecified [application/zip]\n",
            "Saving to: ‘zbp16detail.zip.2’\n",
            "\n",
            "zbp16detail.zip.2       [      <=>           ]  27.51M   824KB/s    in 29s     \n",
            "\n",
            "2019-09-30 21:38:25 (961 KB/s) - ‘zbp16detail.zip.2’ saved [28843251]\n",
            "\n"
          ],
          "name": "stdout"
        }
      ]
    },
    {
      "cell_type": "markdown",
      "metadata": {
        "id": "KWY9T8TpBZAz",
        "colab_type": "text"
      },
      "source": [
        "Now we can see the utility of combining unix commands with python to make our lives much easier:"
      ]
    },
    {
      "cell_type": "code",
      "metadata": {
        "id": "7MsRhdsMaFhi",
        "colab_type": "code",
        "colab": {
          "base_uri": "https://localhost:8080/",
          "height": 34
        },
        "outputId": "1b7b7b78-6522-4c08-cd74-99a09a386359"
      },
      "source": [
        "# -- define a command to make a sub-directory in data called zbp\n",
        "\n",
        "# -- run that command\n",
        "\n",
        "# -- check if the command worked\n",
        "cmd_dta = \"mkdir drive/My\\ Drive/data\"\n",
        "cmd_zbpMk = \"mkdir drive/My\\ Drive/data/zbp\"\n",
        "os.system(cmd_dta)\n",
        "os.system(cmd_zbpMk)"
      ],
      "execution_count": 53,
      "outputs": [
        {
          "output_type": "execute_result",
          "data": {
            "text/plain": [
              "0"
            ]
          },
          "metadata": {
            "tags": []
          },
          "execution_count": 53
        }
      ]
    },
    {
      "cell_type": "code",
      "metadata": {
        "id": "0wpJuwzuJen4",
        "colab_type": "code",
        "colab": {}
      },
      "source": [
        "ls \"drive/My Drive/data/zbp\""
      ],
      "execution_count": 0,
      "outputs": []
    },
    {
      "cell_type": "markdown",
      "metadata": {
        "id": "C3NHu_rOxSMf",
        "colab_type": "text"
      },
      "source": [
        "last package to discuss: ```glob``` looks at the content of a directory and returns it in a list. if the dir is empty the length of the string is...0!"
      ]
    },
    {
      "cell_type": "code",
      "metadata": {
        "id": "3t6wl3GcbbTU",
        "colab_type": "code",
        "colab": {}
      },
      "source": [
        "import glob\n",
        "if len(glob.glob(\"drive/My Drive/dsps2019\")) == 0:\n",
        "  os.system(\"mkdir drive/My\\ Drive/dsps2019\")\n"
      ],
      "execution_count": 0,
      "outputs": []
    },
    {
      "cell_type": "code",
      "metadata": {
        "id": "FXm1ut4jxv8U",
        "colab_type": "code",
        "outputId": "ab8f54ab-af32-4db3-8fc3-a01f9dc71acb",
        "colab": {
          "base_uri": "https://localhost:8080/",
          "height": 504
        }
      },
      "source": [
        "ls -ltr \"drive/My Drive\""
      ],
      "execution_count": 58,
      "outputs": [
        {
          "output_type": "stream",
          "text": [
            "total 5285\n",
            "-rw------- 1 root root  696774 Sep 11  2017 'Getting started.pdf'\n",
            "-rw------- 1 root root     151 Oct 28  2017 'Lab 3: Damped Pendulum.gdoc'\n",
            "-rw------- 1 root root     151 Nov 11  2017 'Lab 4.gsheet'\n",
            "-rw------- 1 root root     151 Nov 11  2017 'Lab 4.gdoc'\n",
            "-rw------- 1 root root     151 Dec 11  2017 'Lab 5.gdoc'\n",
            "-rw------- 1 root root     151 Feb 20  2018 'Outline and Coming to Terms Assignment; Zachariah Germain.gdoc'\n",
            "-rw------- 1 root root     151 Apr  2  2018 'Wallace'\\''s \"This is Water\" First Draft.gdoc'\n",
            "-rw------- 1 root root     151 Apr 12  2018 'EoE Memo.gdoc'\n",
            "-rw------- 1 root root     151 Apr 17  2018 'Paper 2: First Draft.gdoc'\n",
            "-rw------- 1 root root     151 Apr 19  2018 'Paper 2: Second Draft.gdoc'\n",
            "-rw------- 1 root root     151 May  3  2018 'Third Paper: Biblio and Memo.gdoc'\n",
            "-rw------- 1 root root 1368361 May  6  2018 'image1 (1).jpeg'\n",
            "-rw------- 1 root root 2262888 May  6  2018  image2.jpeg\n",
            "-rw------- 1 root root     151 May  7  2018 'Paper 2: Third Draft.gdoc'\n",
            "-rw------- 1 root root     151 May 10  2018 'Third Paper: First Draft.gdoc'\n",
            "-rw------- 1 root root     151 May 14  2018 'Third Paper: Second Draft.gdoc'\n",
            "-rw------- 1 root root 1025616 May 20  2018  image1.jpeg\n",
            "-rw------- 1 root root     151 May 21  2018 'Third Paper: Third Draft.gdoc'\n",
            "-rw------- 1 root root   17691 Aug 31  2018  Paper_1.docx\n",
            "-rw------- 1 root root     151 Aug 31  2018  Paper_1.gdoc\n",
            "-rw------- 1 root root     151 May 13 22:38  HI.gdoc\n",
            "-rw------- 1 root root    5690 Jun 24 14:36  out_Ar_6.dat\n",
            "drwx------ 2 root root    4096 Sep  4 20:29 \u001b[0m\u001b[01;34m'Colab Notebooks'\u001b[0m/\n",
            "drwx------ 2 root root    4096 Sep 24 18:16  \u001b[01;34mrunCutoffv5\u001b[0m/\n",
            "drwx------ 2 root root    4096 Sep 25 20:37  \u001b[01;34mdsps2018_dir\u001b[0m/\n",
            "drwx------ 2 root root    4096 Sep 30 21:38  \u001b[01;34mtest_dir\u001b[0m/\n",
            "drwx------ 3 root root    4096 Sep 30 21:48  \u001b[01;34mdata\u001b[0m/\n",
            "drwx------ 2 root root    4096 Sep 30 21:49  \u001b[01;34mdsps2019\u001b[0m/\n"
          ],
          "name": "stdout"
        }
      ]
    },
    {
      "cell_type": "markdown",
      "metadata": {
        "id": "LveUbS1TRgAR",
        "colab_type": "text"
      },
      "source": [
        "## TASK\n",
        "Create a for loop that reads in the ZIPCODE data zbp[year]detail.zip where [year] goes from 2010 through 2014 included. \n",
        "The for look should use the ```os``` module to: \n",
        "  - download the zipped file\n",
        "  - unzip the file in dsps2019 dir (create it if necessary)\n",
        "  - clean up after itself by removing the downloaded zip files\n",
        "  - print at every step of the loop which year the loop is working on and at each command which command is running. \n",
        "  - notify the user if an error occurs and where\n"
      ]
    },
    {
      "cell_type": "code",
      "metadata": {
        "id": "w6gyE5bAyVJ8",
        "colab_type": "code",
        "colab": {
          "base_uri": "https://localhost:8080/",
          "height": 286
        },
        "outputId": "51f8759e-0a5d-476e-ad12-1e0f2f2cf458"
      },
      "source": [
        "# create the directory as above. \n",
        "# Use glob.glob to see if it is there and capture the output of os.system to see if you have an error\n",
        "if len(glob.glob(\"drive/My Drive/dsps2019\")) == 0:\n",
        "  globErr = os.system(\"mkdir drive/My\\ Drive/dsps2019\")\n",
        "  if globErr != 0:\n",
        "    print(\"Someting went wrong with creating directory\")\n",
        "                      \n",
        "# -- loop through the years for which we want the zbp data\n",
        "for ii in [10,11,12,13,14]: \n",
        "  \n",
        "  # -- convert year to string\n",
        "  snum = str(ii)\n",
        "\n",
        "  # -- build the wget command\n",
        "  cmd_wget = \"wget https://www2.census.gov/programs-surveys/cbp/datasets/20{0}/zbp{0}detail.zip\".format(snum)\n",
        "\n",
        "  # -- build the unzip command\n",
        "  cmd_unzip = \"unzip zbp{0}detail.zip -d drive/My\\ Drive/dsps2019\".format(snum)\n",
        "\n",
        "    # -- build the remove command\n",
        "  cmd_rm = \"rm zbp{0}detail.zip\".format(snum)\n",
        "  \n",
        "  # -- alert on progress\n",
        "  print(\"downloading year 20{}\".format(snum))\n",
        "  \n",
        "  # -- execute the wget command and check\n",
        "  res = os.system(cmd_wget)\n",
        "  if res != 0:\n",
        "    print(\"error \", res, \"with downloading \", ii)\n",
        "  \n",
        "  # -- alert on progress\n",
        "  print(\"moving file...\")\n",
        "  \n",
        "  res = os.system(cmd_unzip)\n",
        "  if res != 0:\n",
        "    print(\"error \", res, \"with unzipping \", ii)\n",
        "  \n",
        "  # -- alert on progress\n",
        "  print(\"Removing file...\")\n",
        "  \n",
        "  res = os.system(cmd_rm)\n",
        "  if res != 0:\n",
        "    print(\"error \", res, \"with removal \", ii)\n",
        "\n",
        "print(\"Completed file \", ii)"
      ],
      "execution_count": 11,
      "outputs": [
        {
          "output_type": "stream",
          "text": [
            "downloading year 2010\n",
            "moving file...\n",
            "Removing file...\n",
            "downloading year 2011\n",
            "moving file...\n",
            "Removing file...\n",
            "downloading year 2012\n",
            "moving file...\n",
            "Removing file...\n",
            "downloading year 2013\n",
            "moving file...\n",
            "Removing file...\n",
            "downloading year 2014\n",
            "moving file...\n",
            "Removing file...\n",
            "Completed file  14\n"
          ],
          "name": "stdout"
        }
      ]
    },
    {
      "cell_type": "code",
      "metadata": {
        "id": "c1yIEAGuTIrZ",
        "colab_type": "code",
        "outputId": "3ac2445e-da12-46a2-90fc-079a00f32276",
        "colab": {
          "base_uri": "https://localhost:8080/",
          "height": 50
        }
      },
      "source": [
        "ls  \"drive/My Drive/dsps2019\""
      ],
      "execution_count": 12,
      "outputs": [
        {
          "output_type": "stream",
          "text": [
            "zbp10detail.txt  zbp12detail.txt  zbp14detail.txt\n",
            "zbp11detail.txt  zbp13detail.txt\n"
          ],
          "name": "stdout"
        }
      ]
    }
  ]
}