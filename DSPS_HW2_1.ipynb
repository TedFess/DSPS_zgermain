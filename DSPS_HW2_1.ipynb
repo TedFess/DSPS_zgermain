{
  "nbformat": 4,
  "nbformat_minor": 0,
  "metadata": {
    "colab": {
      "name": "DSPS_HW2_1",
      "version": "0.3.2",
      "provenance": [],
      "collapsed_sections": [],
      "include_colab_link": true
    },
    "kernelspec": {
      "display_name": "Python 3",
      "language": "python",
      "name": "python3"
    },
    "language_info": {
      "codemirror_mode": {
        "name": "ipython",
        "version": 3
      },
      "file_extension": ".py",
      "mimetype": "text/x-python",
      "name": "python",
      "nbconvert_exporter": "python",
      "pygments_lexer": "ipython3",
      "version": "3.7.3"
    },
    "latex_envs": {
      "LaTeX_envs_menu_present": true,
      "autoclose": false,
      "autocomplete": true,
      "bibliofile": "biblio.bib",
      "cite_by": "apalike",
      "current_citInitial": 1,
      "eqLabelWithNumbers": true,
      "eqNumInitial": 1,
      "hotkeys": {
        "equation": "Ctrl-E",
        "itemize": "Ctrl-I"
      },
      "labels_anchors": false,
      "latex_user_defs": false,
      "report_style_numbering": false,
      "user_envs_cfg": false
    },
    "nbTranslate": {
      "displayLangs": [
        "*"
      ],
      "hotkey": "alt-t",
      "langInMainMenu": true,
      "sourceLang": "en",
      "targetLang": "fr",
      "useGoogleTranslate": true
    },
    "toc": {
      "base_numbering": 1,
      "nav_menu": {},
      "number_sections": true,
      "sideBar": true,
      "skip_h1_title": false,
      "title_cell": "Table of Contents",
      "title_sidebar": "Contents",
      "toc_cell": false,
      "toc_position": {},
      "toc_section_display": true,
      "toc_window_display": false
    }
  },
  "cells": [
    {
      "cell_type": "markdown",
      "metadata": {
        "id": "view-in-github",
        "colab_type": "text"
      },
      "source": [
        "<a href=\"https://colab.research.google.com/github/ZachGermain/DSPS_zgermain/blob/master/DSPS_HW2_1.ipynb\" target=\"_parent\"><img src=\"https://colab.research.google.com/assets/colab-badge.svg\" alt=\"Open In Colab\"/></a>"
      ]
    },
    {
      "cell_type": "markdown",
      "metadata": {
        "ExecuteTime": {
          "end_time": "2019-09-04T04:50:01.872913Z",
          "start_time": "2019-09-04T04:50:01.869703Z"
        },
        "id": "oftv1UxUjQFI",
        "colab_type": "text"
      },
      "source": [
        " Written by Federica B. Bianco @fedhere\n",
        "UDel DSPS 2019\n",
        "\n",
        "Zachariah Germain"
      ]
    },
    {
      "cell_type": "code",
      "metadata": {
        "ExecuteTime": {
          "end_time": "2019-09-07T17:36:53.625807Z",
          "start_time": "2019-09-07T17:36:53.393906Z"
        },
        "colab_type": "code",
        "id": "iQaonMUBqtX2",
        "outputId": "f22d28ba-cc35-4281-b016-fc577d3359d5",
        "colab": {
          "base_uri": "https://localhost:8080/",
          "height": 34
        }
      },
      "source": [
        "from __future__ import print_function, division\n",
        "import numpy as np\n",
        "import scipy as sp\n",
        "from scipy import stats\n",
        "import pylab as pl\n",
        "%pylab inline\n",
        "pl.style.use(\"https://raw.githubusercontent.com/fedhere/DSPS/master/fbb.mplstyle\")\n"
      ],
      "execution_count": 0,
      "outputs": [
        {
          "output_type": "stream",
          "text": [
            "Populating the interactive namespace from numpy and matplotlib\n"
          ],
          "name": "stdout"
        }
      ]
    },
    {
      "cell_type": "markdown",
      "metadata": {
        "colab_type": "text",
        "id": "zu5QKDi5b7vW"
      },
      "source": [
        "# Homework 1: Maxwell Boltzmann distribution"
      ]
    },
    {
      "cell_type": "markdown",
      "metadata": {
        "colab_type": "text",
        "id": "ueaB0mHCO_iM"
      },
      "source": [
        "In Physics, statistics can help us describe the macroscopic behavior of a system if we know its microscopic properties in a statistical sense. We cannot know the motion of each molecule in a gas, but we can know the distribution of their velocities and positions.   In the mid to late 1800s, James Clerk Maxwell and Ludwig Boltzmann modeled the *distribution of speed of molecules in a gas*. As you probably know, and can intuitive realize, the speed of the molecules depends on the temperature of the gas, which is a macroscopic property, i.e. the velocity of the molecules is different for different gas temperatures. **This distribution is called the Maxwell-Boltzmann distribution.**\n"
      ]
    },
    {
      "cell_type": "markdown",
      "metadata": {
        "colab_type": "text",
        "id": "7LpR51uQSvN9"
      },
      "source": [
        "It turns out that the Maxwel-Boltzmann distribution is a special case of the *Chi distribution* with 3 degrees of freedom, and with a scale parameter corresponding to the temperature in some way. "
      ]
    },
    {
      "cell_type": "markdown",
      "metadata": {
        "colab_type": "text",
        "id": "Pc25lN9SUxQL"
      },
      "source": [
        "Below I have created 3 distributions. Based on the description above\n",
        "\n",
        "\n",
        "# 1) label the axis in the plot, "
      ]
    },
    {
      "cell_type": "code",
      "metadata": {
        "ExecuteTime": {
          "end_time": "2019-09-07T17:36:56.493299Z",
          "start_time": "2019-09-07T17:36:56.021862Z"
        },
        "colab_type": "code",
        "id": "LZm2afzhUwuG",
        "outputId": "694322ed-2f52-4469-8e3e-9e6811ffb3b8",
        "colab": {
          "base_uri": "https://localhost:8080/",
          "height": 306
        }
      },
      "source": [
        "np.random.randn(123)\n",
        "fig, ax = pl.subplots()\n",
        "for a in [0.2, 0.6, 1.0]:\n",
        "    ax.hist(sp.stats.chi.rvs(df=3, scale=a, size=1000), # could as well be sp.stats.maxwell.rvs(scale=a, size=1000)\n",
        "          bins=np.arange(0,5,0.1), alpha=0.7,\n",
        "       label=\"a = %.1f\"%a);\n",
        "\n",
        "pl.legend();\n",
        "\n",
        "#Axis Labels\n",
        "pl.xlabel(\"Velocity(m/s)\");\n",
        "pl.ylabel(\"Frequency\");\n",
        "pl.title(\"Maxwell-Boltzman Distribution\");"
      ],
      "execution_count": 0,
      "outputs": [
        {
          "output_type": "display_data",
          "data": {
            "image/png": "[encoded data removed]",
            "text/plain": [
              "<Figure size 432x288 with 1 Axes>"
            ]
          },
          "metadata": {
            "tags": []
          }
        }
      ]
    },
    {
      "cell_type": "markdown",
      "metadata": {
        "colab_type": "text",
        "id": "MGdILsLAaopl"
      },
      "source": [
        "# 2) knowing that the *scale* parameter $a$  is a function of the temperature  *T*, and that the dependency is to a power 1/2, which is correct: \n",
        "   **$a \\propto \\sqrt{T}$**  or **$a \\propto \\sqrt{1/T}$**? \n",
        " "
      ]
    },
    {
      "cell_type": "markdown",
      "metadata": {
        "colab_type": "text",
        "id": "vMGhorbvcrFM"
      },
      "source": [
        "Your answer here: **$a \\propto \\sqrt{T}$**"
      ]
    },
    {
      "cell_type": "markdown",
      "metadata": {
        "colab_type": "text",
        "id": "hGeeXYttXLO1"
      },
      "source": [
        "\n",
        "# 3) What is the mean of all three distributions. How does it compare to the most probable molecular speed? \n",
        "From the wikipedia page of the Chi distribution find the formula of the mean of the Chi distribution. The distribution we are using has a scale parameter *a* in addition to the number of degrees of freedom. The mean scales linearly with this parameter:\n",
        "\n",
        "$\\mu_{\\mathrm{MB}, k, a} = a \\cdot \\mu_{\\mathrm{chi}, k}$\n",
        "\n",
        "Using the scipy function ```sp.special.gamma()```  calculate the gamma $\\Gamma$ function,\n",
        "\n",
        "**calculate the mean of all three distributions. How does it compare to the most probable molecular speed.**"
      ]
    },
    {
      "cell_type": "code",
      "metadata": {
        "ExecuteTime": {
          "end_time": "2019-09-07T17:36:59.245480Z",
          "start_time": "2019-09-07T17:36:59.243338Z"
        },
        "colab_type": "code",
        "id": "-8htAA4mRAVa",
        "outputId": "da1165b9-ebb1-4da1-8d2f-7cf1f2fdb57c",
        "colab": {
          "base_uri": "https://localhost:8080/",
          "height": 118
        }
      },
      "source": [
        "meanMB = [0, 0, 0,];\n",
        "a = [0.2, 0.6, 1.0];\n",
        "for i in range(0,3):\n",
        "  meanMB[i] = a[i]*np.sqrt(2)*sp.special.gamma(2)/sp.special.gamma(1.5)\n",
        "\n",
        "print (\"a=0.2 - mu=\", meanMB[0], \"\\n\")\n",
        "print (\"a=0.6 - mu=\", meanMB[1], \"\\n\")\n",
        "print (\"a=1.0 - mu=\", meanMB[2], \"\\n\")"
      ],
      "execution_count": 0,
      "outputs": [
        {
          "output_type": "stream",
          "text": [
            "a=0.2 - mu= 0.31915382432114625 \n",
            "\n",
            "a=0.6 - mu= 0.9574614729634385 \n",
            "\n",
            "a=1.0 - mu= 1.595769121605731 \n",
            "\n"
          ],
          "name": "stdout"
        }
      ]
    },
    {
      "cell_type": "markdown",
      "metadata": {
        "id": "10AOd6g7SW9i",
        "colab_type": "text"
      },
      "source": [
        "Judging by the histograms produced, **$\\mu_{MB,k,a}$** the means of each distribution is slightly greater than the most probably molecular speed, or mode, of the distributions."
      ]
    },
    {
      "cell_type": "markdown",
      "metadata": {
        "colab_type": "text",
        "id": "r7oes80EQER-"
      },
      "source": [
        "This really only holds for perfect gasses, which means under 4 assumptions: \n",
        "- the diameter of the molecules is much smaller than the distance between them\n",
        "- the collisions between molecules conserve energy\n",
        "- the molecules do not interact between collisions and are not subject to any other forces (move at constant speed in a straight line)\n",
        "- the initial position and velocity are random."
      ]
    },
    {
      "cell_type": "markdown",
      "metadata": {
        "colab_type": "text",
        "id": "3PJ9hjLzQjyA"
      },
      "source": [
        "# Extra Credit:\n",
        "\n",
        "can you create a python (2D) simulation where the molecules behave as describe and calculate their speed evolution from an initial speed that is gaussian distributed? (rather hard!!)\n"
      ]
    },
    {
      "cell_type": "code",
      "metadata": {
        "ExecuteTime": {
          "end_time": "2019-09-07T17:37:01.623460Z",
          "start_time": "2019-09-07T17:37:01.621218Z"
        },
        "colab_type": "code",
        "id": "6LJU9GPVRO7B",
        "colab": {
          "base_uri": "https://localhost:8080/",
          "height": 269
        },
        "outputId": "2312823d-8052-4d61-a6a5-3ae671a49174"
      },
      "source": [
        "import numpy as np\n",
        "import matplotlib.pyplot as plt\n",
        "from matplotlib import animation\n",
        "\n",
        "particles = {}\n",
        "numParticles = 100;\n",
        "boxLength = 1000;\n",
        "for i in range(0,numParticles):\n",
        "    particles[i]={}\n",
        "np.random.seed(700)\n",
        "for i in range(0,numParticles):\n",
        "    particles[i]['xpos'] = np.random.rand()*boxLength\n",
        "    particles[i]['ypos'] = np.random.rand()*boxLength\n",
        "    particles[i]['xvel'] = np.random.normal()*50\n",
        "    particles[i]['yvel'] = np.random.normal()*50\n",
        "\n",
        "def mv(t, partID):\n",
        "    particles[partID]['xpos'] += particles[partID]['xvel']*t\n",
        "    particles[partID]['ypos'] += particles[partID]['yvel']*t\n",
        "    \n",
        "def move(t):\n",
        "    for i in particles:\n",
        "        mv(t, i)\n",
        "        \n",
        "def collideWall():\n",
        "    for i in particles:\n",
        "        if particles[i]['xpos']<=2 or particles[i]['xpos']>=boxLength-2:\n",
        "            particles[i]['xvel']*=-1\n",
        "        if particles[i]['ypos']<=2 or particles[i]['ypos']>=boxLength-2:\n",
        "            particles[i]['yvel']*=-1\n",
        "\n",
        "def distCalc(part1, part2):\n",
        "    return np.sqrt((particles[part1]['xpos']-particles[part2]['xpos'])**2+\n",
        "                   (particles[part1]['ypos']-particles[part2]['ypos'])**2)\n",
        "\n",
        "def collideCalc(i,j):\n",
        "    #val1 = np.sqrt((particles[i]['xvel'])**2+\n",
        "                   #(particles[i]['yvel'])**2)\n",
        "    #val2 = np.sqrt((particles[j]['xvel'])**2+\n",
        "                   #(particles[j]['yvel'])**2)\n",
        "    #print([val1, val2])\n",
        "    vel1XDiff = particles[i]['xvel'] - particles[j]['xvel']\n",
        "    vel1YDiff = particles[i]['yvel'] - particles[j]['yvel']\n",
        "    pos1XDiff = particles[i]['xpos'] - particles[j]['xpos']\n",
        "    pos1YDiff = particles[i]['ypos'] - particles[j]['ypos']\n",
        "    vel1DiffArr = [vel1XDiff, vel1YDiff]\n",
        "    pos1DiffArr = [pos1XDiff, pos1YDiff]\n",
        "    vel1Arr = [particles[i]['xvel'], particles[i]['yvel']]\n",
        "    coeff = (-1*np.dot(vel1DiffArr, pos1DiffArr))/np.dot(pos1DiffArr,pos1DiffArr)\n",
        "    pos1Coeff = [pos1DiffArr[0]*coeff, pos1DiffArr[1]*coeff]\n",
        "    vel1Fin = [vel1Arr[0]+pos1Coeff[0], vel1Arr[1]+pos1Coeff[1]]\n",
        "    particles[i]['xvel'] = vel1Fin[0]\n",
        "    particles[i]['yvel'] = vel1Fin[1]\n",
        "    \n",
        "    vel2XDiff = particles[j]['xvel'] - particles[i]['xvel']\n",
        "    vel2YDiff = particles[j]['yvel'] - particles[i]['yvel']\n",
        "    pos2XDiff = particles[j]['xpos'] - particles[i]['xpos']\n",
        "    pos2YDiff = particles[j]['ypos'] - particles[i]['ypos']\n",
        "    vel2DiffArr = [vel2XDiff, vel2YDiff]\n",
        "    pos2DiffArr = [pos2XDiff, pos2YDiff]\n",
        "    vel2Arr = [particles[j]['xvel'], particles[j]['yvel']]\n",
        "    coeff = (-1*np.dot(vel2DiffArr, pos2DiffArr))/np.dot(pos2DiffArr,pos2DiffArr)\n",
        "    pos2Coeff = [pos2DiffArr[0]*coeff, pos2DiffArr[1]*coeff]\n",
        "    vel2Fin = [vel2Arr[0]+pos2Coeff[0], vel2Arr[1]+pos2Coeff[1]]\n",
        "    particles[j]['xvel'] = vel2Fin[0]\n",
        "    particles[j]['yvel'] = vel2Fin[1]\n",
        "    \n",
        "    #val1 = np.sqrt((particles[i]['xvel'])**2+\n",
        "                   #(particles[i]['yvel'])**2)\n",
        "    #val2 = np.sqrt((particles[j]['xvel'])**2+\n",
        "                   #(particles[j]['yvel'])**2)\n",
        "    #print([val1,val2])\n",
        "\n",
        "def collideParticles():\n",
        "    for i in particles:\n",
        "        for j in particles:\n",
        "            if i!=j:\n",
        "                dist = distCalc(i,j)\n",
        "                if dist <= 4:\n",
        "                    collideCalc(i,j)\n",
        "                    \n",
        "def getXPos():\n",
        "    xPos = []\n",
        "    for i in particles:\n",
        "        xPos.append(particles[i]['xpos'])\n",
        "    return xPos\n",
        "\n",
        "def getYPos():\n",
        "    YPos = []\n",
        "    for i in particles:\n",
        "        YPos.append(particles[i]['ypos'])\n",
        "    return YPos\n",
        "        \n",
        "fig = plt.figure()\n",
        "ax = fig.add_subplot(111, aspect='equal', autoscale_on=True,\n",
        "                     xlim=(0, boxLength), ylim=(0, boxLength))\n",
        "particle, = ax.plot([], [], 'bo', ms=5)\n",
        "\n",
        "def init():\n",
        "    \"\"\"initialize animation\"\"\"\n",
        "    xPosInit = getXPos()\n",
        "    yPosInit = getYPos()\n",
        "    posInit = [xPosInit, yPosInit]\n",
        "    particle.set_data(posInit)\n",
        "    return particle,\n",
        "\n",
        "def animate(i):\n",
        "    \"\"\"perform animation step\"\"\"\n",
        "    ms = 2\n",
        "    \n",
        "    # update pieces of the animation\n",
        "    move(1./30)\n",
        "    collideWall()\n",
        "    collideParticles()\n",
        "    xPos = getXPos()\n",
        "    yPos = getYPos()\n",
        "    particle.set_data(xPos,yPos)\n",
        "    particle.set_markersize(ms)\n",
        "    return particle,\n",
        "\n",
        "ani = animation.FuncAnimation(fig, animate, frames=600,\n",
        "                              interval=10, blit=True, init_func=init)\n",
        "\n",
        "#ani.save('Maxwell_Sim.htm', fps=30, extra_args=['-vcodec', 'libx264'])"
      ],
      "execution_count": 1,
      "outputs": [
        {
          "output_type": "display_data",
          "data": {
            "image/png": "[encoded data removed]",
            "text/plain": [
              "<Figure size 432x288 with 1 Axes>"
            ]
          },
          "metadata": {
            "tags": []
          }
        }
      ]
    },
    {
      "cell_type": "markdown",
      "metadata": {
        "id": "f6K_NeDnd4bD",
        "colab_type": "text"
      },
      "source": [
        "Collission problem remains improperly solved. Only works if done with save line(last line) and on computer, I can't get animations working otherwise including codes for animations on the internet."
      ]
    },
    {
      "cell_type": "code",
      "metadata": {
        "id": "idcHKis6jQF-",
        "colab_type": "code",
        "colab": {}
      },
      "source": [
        ""
      ],
      "execution_count": 0,
      "outputs": []
    }
  ]
}